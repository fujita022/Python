{
 "cells": [
  {
   "cell_type": "code",
   "execution_count": 2,
   "metadata": {},
   "outputs": [],
   "source": [
    "# Exercício 1 - soma de dois números\n",
    "\n",
    "def soma(x, y):\n",
    "    \"\"\"Função soma\"\"\"\n",
    "    resultado = x + y\n",
    "    return resultado"
   ]
  },
  {
   "cell_type": "code",
   "execution_count": 10,
   "metadata": {},
   "outputs": [],
   "source": [
    "def soma(x, y):\n",
    "    \"\"\"Função soma\"\"\"\n",
    "    return x + y"
   ]
  },
  {
   "cell_type": "code",
   "execution_count": 11,
   "metadata": {},
   "outputs": [
    {
     "name": "stdout",
     "output_type": "stream",
     "text": [
      "15\n",
      "600\n"
     ]
    }
   ],
   "source": [
    "print(soma(10, 5))\n",
    "print(soma(100, 500))"
   ]
  },
  {
   "cell_type": "code",
   "execution_count": 25,
   "metadata": {},
   "outputs": [
    {
     "name": "stdout",
     "output_type": "stream",
     "text": [
      "15\n",
      "5\n",
      "2.0\n",
      "50\n"
     ]
    }
   ],
   "source": [
    "# 1. Crie funções para fazer operações de soma, subtração, divisão e multiplicação.\n",
    "\n",
    "def soma(x, y):\n",
    "    \"\"\"Soma dois números\"\"\"\n",
    "    resultado = x + y\n",
    "    return resultado\n",
    "\n",
    "print(soma(10, 5))\n",
    "\n",
    "def subtração(x, y):\n",
    "    \"\"\"Subtrai dois números\"\"\"\n",
    "    resultado = x - y\n",
    "    return resultado\n",
    "\n",
    "print(subtração(10, 5))\n",
    "\n",
    "def divisão(x, y):\n",
    "    \"\"\"Divide dois números\"\"\"\n",
    "    resultado = (x / y)\n",
    "    return resultado\n",
    "\n",
    "print(divisão(10, 5))\n",
    "\n",
    "def multiplicação(x, y):\n",
    "    \"\"\"Multiplica dois números\"\"\"\n",
    "    resultado = x * y\n",
    "    return resultado\n",
    "\n",
    "print(multiplicação(10, 5))"
   ]
  },
  {
   "cell_type": "code",
   "execution_count": 45,
   "metadata": {},
   "outputs": [
    {
     "name": "stdout",
     "output_type": "stream",
     "text": [
      "25\n",
      "50\n",
      "50.264\n",
      "8.0\n"
     ]
    }
   ],
   "source": [
    "# 2. Crie uma função para calcular a área de um quadrado, retângulo, círculo e triângulo.\n",
    "\n",
    "def area_quadrado(lado):\n",
    "    \"\"\"Função para calcular a área de um quadrado\"\"\"\n",
    "    return lado * lado\n",
    "\n",
    "print(area_quadrado(5))\n",
    "\n",
    "def area_retangulo(lado1, lado2):\n",
    "    \"\"\"Função para calcular área de um retângulo\"\"\"\n",
    "    return lado1 * lado2\n",
    "\n",
    "print(area_retangulo(10, 5))\n",
    "\n",
    "def area_cículo(raio):\n",
    "    \"\"\"Função para cacular a área de um círculo\"\"\"\n",
    "    return 3.1415 * raio * raio\n",
    "\n",
    "print(area_cículo(4))\n",
    "\n",
    "def area_triangulo(base, altura):\n",
    "    \"\"\"Função para calcular a área de um triângulo\"\"\"\n",
    "    return (base * altura) / 2\n",
    "\n",
    "print(area_triangulo(4, 4))"
   ]
  },
  {
   "cell_type": "code",
   "execution_count": 46,
   "metadata": {},
   "outputs": [
    {
     "name": "stdout",
     "output_type": "stream",
     "text": [
      "64\n"
     ]
    }
   ],
   "source": [
    "# 3. Crie uma função para calcular o volume de um cubo.\n",
    "\n",
    "def volume_cubo(comprimento_aresta):\n",
    "    \"\"\"Função para calcular o volume de um cubo\"\"\"\n",
    "    return comprimento_aresta ** 3\n",
    "\n",
    "print(volume_cubo(4))"
   ]
  },
  {
   "cell_type": "code",
   "execution_count": 55,
   "metadata": {},
   "outputs": [
    {
     "name": "stdout",
     "output_type": "stream",
     "text": [
      "A área do terreno é: 25.0\n"
     ]
    }
   ],
   "source": [
    "# 4. Crie uma função para calcular a área de um terreno.\n",
    "\n",
    "lado1 = float(input(\"Insira o lado 1\"))\n",
    "lado2 = float(input(\"Insira o lado 2\"))\n",
    "\n",
    "def area_terreno(x, y):\n",
    "    \"\"\"Função para calcular a area de um terreno\"\"\"\n",
    "    return lado1 * lado2\n",
    "\n",
    "print(f\"A área do terreno é: {area_terreno(lado1, lado2)}\")"
   ]
  },
  {
   "cell_type": "code",
   "execution_count": 56,
   "metadata": {},
   "outputs": [
    {
     "name": "stdout",
     "output_type": "stream",
     "text": [
      "2 par\n"
     ]
    }
   ],
   "source": [
    "# 5. Crie uma função para mostrar se um número é par ou ímpar.\n",
    "\n",
    "numero = int(input(\"Digite um numero\"))\n",
    "\n",
    "def par_impar(x):\n",
    "    \"\"\"Função para determinar par ou impar\"\"\"\n",
    "    if numero != 0:\n",
    "        if numero %2 == 0:\n",
    "            return \"par\"\n",
    "        else:\n",
    "            return \"impar\"\n",
    "    else:\n",
    "        return \"zero\"\n",
    "    \n",
    "print(par_impar(numero))"
   ]
  },
  {
   "cell_type": "code",
   "execution_count": 57,
   "metadata": {},
   "outputs": [
    {
     "name": "stdout",
     "output_type": "stream",
     "text": [
      "95\n"
     ]
    }
   ],
   "source": [
    "# 6. Crie uma função que calcule a soma de valores de uma lista = [10, 15, 25, 30, 15]\n",
    "\n",
    "lista = [10, 15, 25, 30, 15]\n",
    "\n",
    "def soma_lista(x):\n",
    "    \"\"\"Soma valores lista\"\"\"\n",
    "    soma = 0\n",
    "    for k in x:\n",
    "        soma += k\n",
    "    return soma\n",
    "\n",
    "print(soma_lista(lista))"
   ]
  },
  {
   "cell_type": "code",
   "execution_count": 76,
   "metadata": {},
   "outputs": [
    {
     "name": "stdout",
     "output_type": "stream",
     "text": [
      "[1, 2, 3, 4, 5]\n"
     ]
    }
   ],
   "source": [
    "\"\"\" 7. Como criar uma estrutura com input para o usuário solicitando 5 valores?\n",
    "    - Criar estrutura solicitando 5 valores para o usuário.\n",
    "    - Criar estrutura para somar os valores inseridos pelo usuário.\n",
    "    - Criar estrutura para calcular a média dos valores inseridos pelo usuário.\"\"\"\n",
    "\n",
    "def lista_valores(x):\n",
    "    lista = []\n",
    "    for i in range(x):\n",
    "        valor = int(input(\"Digite um valor: \"))\n",
    "        lista.append(valor)\n",
    "        i += 1\n",
    "    return lista \n",
    "\n",
    "print(lista_valores(5))      "
   ]
  },
  {
   "cell_type": "code",
   "execution_count": null,
   "metadata": {},
   "outputs": [],
   "source": [
    "# 8. Fazer o exercício anterior com uma estrutura utilizando função dentro de função."
   ]
  },
  {
   "cell_type": "code",
   "execution_count": null,
   "metadata": {},
   "outputs": [],
   "source": [
    "# 9. Crie uma estrutura para solicitar 3 valores de salários, em seguida, crie uma porcentagem de desconto para cada salário e retorne o valor do salário com o respectivo desconto."
   ]
  }
 ],
 "metadata": {
  "kernelspec": {
   "display_name": "Python 3",
   "language": "python",
   "name": "python3"
  },
  "language_info": {
   "codemirror_mode": {
    "name": "ipython",
    "version": 3
   },
   "file_extension": ".py",
   "mimetype": "text/x-python",
   "name": "python",
   "nbconvert_exporter": "python",
   "pygments_lexer": "ipython3",
   "version": "3.11.4"
  },
  "orig_nbformat": 4
 },
 "nbformat": 4,
 "nbformat_minor": 2
}
