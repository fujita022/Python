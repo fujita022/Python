{
 "cells": [
  {
   "cell_type": "code",
   "execution_count": null,
   "metadata": {},
   "outputs": [],
   "source": [
    "#ex 1\n",
    "\n",
    "n1 = float(input('Digite a primeira nota: '))\n",
    "n2 = float(input('Digite a segunda nota: '))\n",
    "n3 = float(input('Digite a terceira nota: '))\n",
    "artigo = int(input('Digite 1 se você tem um artigo publicado, e 2 caso não tenha.'))\n",
    "\n",
    "media = (n1+n2+n3) / 3\n",
    "\n",
    "\n",
    "if media >= 7:\n",
    "    print(f'Aprovado com média: {media}')\n",
    "elif media >=4 and media < 7:\n",
    "    print(f'Recuperacão com média: {media}')\n",
    "elif media< 4 and artigo == 1:\n",
    "    print(f'Você foi aprovado porque você tem um artigo publicado.')\n",
    "else: \n",
    "    print('Reprovado')"
   ]
  },
  {
   "cell_type": "code",
   "execution_count": null,
   "metadata": {},
   "outputs": [],
   "source": [
    "#ex 2\n",
    "\n",
    "print('Velocidade permitida: 80km/h')\n",
    "velocidade = float(input('Qual a velocidade do veículo em km/h?'))\n",
    "multa = (velocidade - 80) * 5\n",
    "if velocidade <= 80:\n",
    "    print(f'Você está de acordo com a velocidade permitida: {velocidade}')\n",
    "    \n",
    "else: \n",
    "    print(f'Você foi multado por excesso de velocidade! Velocidade = {velocidade}')\n",
    "    print(f'Você foi multado no valor de {multa}R$.')\n"
   ]
  },
  {
   "cell_type": "code",
   "execution_count": null,
   "metadata": {},
   "outputs": [],
   "source": [
    "#ex 3\n",
    "\n",
    "idade = int(input('Digite a sua idade: '))\n",
    "\n",
    "if idade <= 11:\n",
    "    print(f'Você é uma criança: {idade} anos.')\n",
    "elif idade >= 12 and idade  <=18:\n",
    "    print(f'Você é um adolescente: {idade} anos.')\n",
    "elif idade >= 18 and idade < 65:\n",
    "    print(f'Você é um adulto: {idade} anos.')\n",
    "else:\n",
    "    print(f'Você é muito velhooo: {idade} anos.')"
   ]
  },
  {
   "cell_type": "code",
   "execution_count": 59,
   "metadata": {},
   "outputs": [
    {
     "name": "stdout",
     "output_type": "stream",
     "text": [
      "É impar\n"
     ]
    }
   ],
   "source": [
    "#ex 4\n",
    "\n",
    "numero = float(input('Digite um número: '))\n",
    "if numero % 2 == 0:\n",
    "    print('É par')\n",
    "else:\n",
    "    print('É impar')"
   ]
  },
  {
   "cell_type": "code",
   "execution_count": 46,
   "metadata": {},
   "outputs": [
    {
     "name": "stdout",
     "output_type": "stream",
     "text": [
      "Há dois números iguais.\n"
     ]
    }
   ],
   "source": [
    "#ex 5\n",
    "\n",
    "a = float(input('Digite o primeiro número: '))\n",
    "b = float(input('Digite o segundo número: '))\n",
    "c = float(input('Digite o terceiro número: '))\n",
    "\n",
    "if a > b > c:\n",
    "    print(f'O primeiro número é o maior: {a}, sendo o segundo {b} e o terceiro {c}')\n",
    "elif a < b > c:\n",
    "    print(f'O segundo número é o maior: {b}, sendo o primeiro número {a} e o terceiro número {c} ')\n",
    "elif a < b < c:\n",
    "    print(f'O terceiro número é o maior: {c}, sendo o primeiro número {a} e o segundo número {b} ')\n",
    "elif a ==b and b == c and a==c:\n",
    "    print('Todos os números são iguais, nenhum é maior.')\n",
    "else:\n",
    "  print(\"Há dois números iguais. Impossível acusar um maior.\")"
   ]
  },
  {
   "cell_type": "code",
   "execution_count": 67,
   "metadata": {},
   "outputs": [
    {
     "name": "stdout",
     "output_type": "stream",
     "text": [
      "1.Azul\n",
      "2.Verde\n",
      "3.Amarelo\n",
      "4.Preto\n",
      "5.Branco\n",
      "O número é:\n",
      "Amarelo\n"
     ]
    }
   ],
   "source": [
    "#ex 6\n",
    "\n",
    "print('1.Azul\\n2.Verde\\n3.Amarelo\\n4.Preto\\n5.Branco\\n')\n",
    "\n",
    "numero = int(input('Digite o número desejado: '))\n",
    "\n",
    "if numero == 1:\n",
    "    print('O número é:\\nAzul')\n",
    "elif numero == 2:\n",
    "    print('O número é:\\nVerde')\n",
    "elif numero == 3:\n",
    "    print('O número é:\\nAmarelo')\n",
    "elif numero == 4:\n",
    "    print('O número é:\\nPreto')\n",
    "elif numero == 5:\n",
    "    print('O número é:\\nBranco')\n",
    "else: \n",
    "    print('Digite um número listado.')"
   ]
  },
  {
   "cell_type": "code",
   "execution_count": 64,
   "metadata": {},
   "outputs": [
    {
     "name": "stdout",
     "output_type": "stream",
     "text": [
      "Você está isento de impostos.\n"
     ]
    }
   ],
   "source": [
    "#ex 7\n",
    "\n",
    "salario = float(input('Digite a sua renda mensal(por pessoa): '))\n",
    "if salario < 2000:\n",
    "    print(f'Você pagará {salario * 0.1}R$ de imposto')\n",
    "    print(f'Salário final: {salario - (salario * 0.1)}')\n",
    "elif 2000 <= salario < 5000:\n",
    "    print(f'Você pagará {salario * 0.2}R$ de imposto')\n",
    "    print(f'Salário final: {salario - (salario * 0.2)}')\n",
    "elif 5000 <= salario < 10000:\n",
    "    print(f'Você pagará {salario * 0.24}R$ de imposto')\n",
    "    print(f'Salário final: {salario - (salario * 0.24)}')\n",
    "else:\n",
    "    print(f'Você pagará {salario * 0.3}R$ de imposto')\n",
    "    print(f'Salário final: {salario - (salario * 0.3)}')"
   ]
  },
  {
   "cell_type": "code",
   "execution_count": 101,
   "metadata": {},
   "outputs": [
    {
     "name": "stdout",
     "output_type": "stream",
     "text": [
      "Exemplos:\n",
      "1.segunda\n",
      "2.terça\n",
      "3.quarta\n",
      "4.quinta\n",
      "5.sexta\n",
      "6.sabado\n",
      "7.domingo\n"
     ]
    },
    {
     "ename": "TypeError",
     "evalue": "list indices must be integers or slices, not tuple",
     "output_type": "error",
     "traceback": [
      "\u001b[1;31m---------------------------------------------------------------------------\u001b[0m",
      "\u001b[1;31mTypeError\u001b[0m                                 Traceback (most recent call last)",
      "Cell \u001b[1;32mIn[101], line 9\u001b[0m\n\u001b[0;32m      7\u001b[0m \u001b[39melif\u001b[39;00m dia \u001b[39m==\u001b[39m semana[\u001b[39m1\u001b[39m]:\n\u001b[0;32m      8\u001b[0m     \u001b[39mprint\u001b[39m(\u001b[39m'\u001b[39m\u001b[39mDia de netflix, futebol ou cinema\u001b[39m\u001b[39m'\u001b[39m)\n\u001b[1;32m----> 9\u001b[0m \u001b[39melif\u001b[39;00m dia \u001b[39m==\u001b[39m semana[\u001b[39m2\u001b[39;49m,\u001b[39m3\u001b[39;49m,\u001b[39m4\u001b[39;49m,\u001b[39m5\u001b[39;49m,\u001b[39m6\u001b[39;49m]: \n\u001b[0;32m     10\u001b[0m     \u001b[39mprint\u001b[39m(\u001b[39m'\u001b[39m\u001b[39mDia de estudar ou trabalhar\u001b[39m\u001b[39m'\u001b[39m)\n\u001b[0;32m     11\u001b[0m \u001b[39melse\u001b[39;00m:\n",
      "\u001b[1;31mTypeError\u001b[0m: list indices must be integers or slices, not tuple"
     ]
    }
   ],
   "source": [
    "print('Exemplos:\\n1.segunda\\n2.terça\\n3.quarta\\n4.quinta\\n5.sexta\\n6.sabado\\n7.domingo')\n",
    "dia = input('Digite o dia da semana')\n",
    "semana = ['sabado','domingo','segunda','terça','quarta','quinta','sexta']\n",
    "\n",
    "if dia == semana[0]:\n",
    "    print('Dia de balada')\n",
    "elif dia == semana[1]:\n",
    "    print('Dia de netflix, futebol ou cinema')\n",
    "elif dia == semana[2-6]: \n",
    "    print('Dia de estudar ou trabalhar')\n",
    "else:\n",
    "    print('Digite um dia da semana válido!')"
   ]
  },
  {
   "cell_type": "code",
   "execution_count": 7,
   "metadata": {},
   "outputs": [
    {
     "name": "stdout",
     "output_type": "stream",
     "text": [
      "Sistema para votações.\n",
      "Você não pode votar por não ter um titulo eleitor.\n",
      "Tudo bem, é seu direito!\n"
     ]
    }
   ],
   "source": [
    "print('Sistema para votações.')\n",
    "\n",
    "idade = int(input('Digite sua idade: '))\n",
    "\n",
    "if idade < 16:\n",
    "    print('Você é menor de idade, incapacitado de votar.')\n",
    "\n",
    "\n",
    "elif (idade == 16) or (idade <=17):\n",
    "    titulo = int(input('Você tem titulo de eleitor?\\nDigite 1. Caso afirmativo\\nDigite 2. Caso negativo'))\n",
    "    if titulo == 1:\n",
    "        print('Você pode votar!')\n",
    "    if titulo == 2:\n",
    "        print('Você não pode votar por não ter um titulo eleitor.')\n",
    "    elif titulo == 2:\n",
    "        votar = int(input('Você quer votar?\\nDigite 1. Caso afirmativo\\nDigite 2. Caso negativo.'))\n",
    "    if votar == 1:\n",
    "        print('Parabéns! Você está apto para votações!.')\n",
    "    elif votar == 2:\n",
    "        print('Tudo bem, é seu direito!')\n",
    "else:\n",
    "    print('É obrigatório votar, você já possui maioridade.')\n",
    "\n",
    "\n",
    "\n"
   ]
  }
 ],
 "metadata": {
  "kernelspec": {
   "display_name": "Python 3",
   "language": "python",
   "name": "python3"
  },
  "language_info": {
   "codemirror_mode": {
    "name": "ipython",
    "version": 3
   },
   "file_extension": ".py",
   "mimetype": "text/x-python",
   "name": "python",
   "nbconvert_exporter": "python",
   "pygments_lexer": "ipython3",
   "version": "3.11.4"
  },
  "orig_nbformat": 4
 },
 "nbformat": 4,
 "nbformat_minor": 2
}
