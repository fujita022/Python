{
 "cells": [
  {
   "cell_type": "code",
   "execution_count": 27,
   "metadata": {},
   "outputs": [
    {
     "name": "stdout",
     "output_type": "stream",
     "text": [
      "Lista de valores de massa respectivamente: \n",
      " [0.0016666666666666668, 0.0033333333333333335, 0.005, 0.006666666666666667, 0.008333333333333333, 0.01]\n"
     ]
    }
   ],
   "source": [
    "#ex 1\n",
    "massas = []\n",
    "vluz = 300000\n",
    "forca = [500,1000,1500,2000,2500,3000]\n",
    "\n",
    "for vf in forca:\n",
    "    massa = vf/vluz\n",
    "    massas.append(massa)\n",
    "\n",
    "print(f'Lista de valores de massa respectivamente: \\n', massas)\n",
    "\n",
    "\n",
    "\n",
    "\n"
   ]
  },
  {
   "cell_type": "code",
   "execution_count": 7,
   "metadata": {},
   "outputs": [
    {
     "name": "stdout",
     "output_type": "stream",
     "text": [
      "Lista de nomes: \n",
      " ['rter']\n",
      "Lista de CPFs: \n",
      " ['43543']\n",
      "\n",
      "\n",
      "\n",
      "Lista de nomes: \n",
      " ['rter', 'gertre']\n",
      "Lista de CPFs: \n",
      " ['43543', '43543']\n",
      "\n",
      "\n",
      "\n",
      "Lista de nomes: \n",
      " ['rter', 'gertre', 'retre']\n",
      "Lista de CPFs: \n",
      " ['43543', '43543', '43534']\n",
      "\n",
      "\n",
      "\n",
      "Lista de nomes: \n",
      " ['rter', 'gertre', 'retre', '']\n",
      "Lista de CPFs: \n",
      " ['43543', '43543', '43534', '']\n",
      "\n",
      "\n",
      "\n"
     ]
    }
   ],
   "source": [
    "#ex 2\n",
    "nomes = []\n",
    "cpfs = []\n",
    "contador = 0\n",
    "\n",
    "while contador < 4:\n",
    "    contador += 1\n",
    "    nome = str(input('Digite um nome: '))\n",
    "    cpf = input('Digite um CPF: ') \n",
    "    nomes.append(nome)\n",
    "    cpfs.append(cpf)\n",
    "    print(f'Lista de nomes: \\n',nomes)\n",
    "    print(f'Lista de CPFs: \\n',cpfs)\n",
    "    print('\\n\\n')"
   ]
  },
  {
   "cell_type": "code",
   "execution_count": 13,
   "metadata": {},
   "outputs": [
    {
     "name": "stdout",
     "output_type": "stream",
     "text": [
      "Seguem os respectivos salários com seus descontos: \n",
      " [1800, 2500, 3200, 4200, 5000]\n",
      "Salários com desconto: \n",
      " [[1620.0], [2000.0, 2560.0, 2940.0, 3500.0], []]\n"
     ]
    }
   ],
   "source": [
    "lista_salarios = [1800, 2500, 3200, 4200, 5000]\n",
    "salario_10 = []\n",
    "salario_20 = []\n",
    "salario_30 = []\n",
    "salarios = [salario_10,salario_20,salario_30]\n",
    "for k in lista_salarios:\n",
    "    if k <=2000:\n",
    "     salario_10.append(k*0.9)\n",
    "\n",
    "    elif k >2000 and k <=4000:\n",
    "        salario_20.append(k*0.8) \n",
    "    else:\n",
    "        salario_20.append(k*0.7)\n",
    "print(f'Seguem os respectivos salários com seus descontos: \\n',lista_salarios)\n",
    "print(f'Salários com desconto: \\n',salarios)\n"
   ]
  },
  {
   "cell_type": "code",
   "execution_count": 25,
   "metadata": {},
   "outputs": [
    {
     "name": "stdout",
     "output_type": "stream",
     "text": [
      "Sistema para calcular valor de 5 produtos do usuário 1!\n",
      "[USUÁRIO_1]A soma dos 5 produtos do usuário 1 inseridos acima é igual a:  7\n",
      "[USUÁRIO_1]A media dos 5 produtos do usuário 1 inseridos acima é igual a:  1.4\n",
      "Obrigado por usar o nosso sistema!!! Vamos para os produtos do usuário 2!\n",
      "\n",
      "\n",
      "\n",
      "Sistema para calcular valor de 5 produtos do usuário 2!\n",
      "[USUÁRIO_2]A soma dos 5 produtos do usuário 2 inseridos acima é igual a:  12\n",
      "[USUÁRIO_2]A media dos 5 produtos do usuário 2 inseridos acima é igual a:  2.4\n"
     ]
    }
   ],
   "source": [
    "produtos = []\n",
    "produtos2 = []\n",
    "p = 0\n",
    "m = 0\n",
    "\n",
    "print('Sistema para calcular valor de 5 produtos do usuário 1!')\n",
    "while p < 5:\n",
    "    p+=1\n",
    "    produtos.append(int(input('[USUÁRIO_1]Digite o valor do primeiro produto:')))\n",
    "    k = sum(produtos)\n",
    "    i = (sum(produtos) / len(produtos))\n",
    "print(f'[USUÁRIO_1]A soma dos 5 produtos do usuário 1 inseridos acima é igual a: ',k)\n",
    "print(f'[USUÁRIO_1]A media dos 5 produtos do usuário 1 inseridos acima é igual a: ',i)\n",
    "\n",
    "print('Obrigado por usar o nosso sistema!!! Vamos para os produtos do usuário 2!\\n\\n\\n')\n",
    "\n",
    "print('Sistema para calcular valor de 5 produtos do usuário 2!')\n",
    "while m < 5:\n",
    "    m +=1\n",
    "    produtos2.append(int(input('[USUÁRIO_2]Digite o valor do primeiro produto:')))\n",
    "    j = sum(produtos2)\n",
    "    l = (sum(produtos2) / len(produtos2))\n",
    "print(f'[USUÁRIO_2]A soma dos 5 produtos do usuário 2 inseridos acima é igual a: ',j)\n",
    "print(f'[USUÁRIO_2]A media dos 5 produtos do usuário 2 inseridos acima é igual a: ',l)\n",
    "print('Obrigado por usar o nosso sistema!!!\\nAté breve.')\n",
    "\n",
    "\n",
    "\n",
    "\n"
   ]
  },
  {
   "cell_type": "code",
   "execution_count": 30,
   "metadata": {},
   "outputs": [
    {
     "name": "stdout",
     "output_type": "stream",
     "text": [
      "De acordo com a lista abaixo, escreva a classificação de seus 5 produtos: \n",
      " ['notebook', 'ssd', 'mouse', 'teclado', 'monitor']\n",
      "Digite uma classificação a adicionar de acordo com a lista proposta.\n"
     ]
    },
    {
     "ename": "KeyboardInterrupt",
     "evalue": "Interrupted by user",
     "output_type": "error",
     "traceback": [
      "\u001b[1;31m---------------------------------------------------------------------------\u001b[0m",
      "\u001b[1;31mKeyboardInterrupt\u001b[0m                         Traceback (most recent call last)",
      "Cell \u001b[1;32mIn[30], line 10\u001b[0m\n\u001b[0;32m      8\u001b[0m     i\u001b[39m+\u001b[39m\u001b[39m=\u001b[39m\u001b[39m1\u001b[39m\n\u001b[0;32m      9\u001b[0m     \u001b[39mprint\u001b[39m(\u001b[39m'\u001b[39m\u001b[39mDigite uma classificação a adicionar de acordo com a lista proposta.\u001b[39m\u001b[39m'\u001b[39m)\n\u001b[1;32m---> 10\u001b[0m     produtos_user\u001b[39m.\u001b[39mappend(\u001b[39minput\u001b[39;49m())\n\u001b[0;32m     12\u001b[0m \u001b[39mfor\u001b[39;00m k \u001b[39min\u001b[39;00m lista_produtos:\n\u001b[0;32m     13\u001b[0m     k \u001b[39m=\u001b[39m lista_produtos(\u001b[39m'\u001b[39m\u001b[39m'\u001b[39m)\n",
      "File \u001b[1;32mc:\\Python311\\Lib\\site-packages\\ipykernel\\kernelbase.py:1191\u001b[0m, in \u001b[0;36mKernel.raw_input\u001b[1;34m(self, prompt)\u001b[0m\n\u001b[0;32m   1189\u001b[0m     msg \u001b[39m=\u001b[39m \u001b[39m\"\u001b[39m\u001b[39mraw_input was called, but this frontend does not support input requests.\u001b[39m\u001b[39m\"\u001b[39m\n\u001b[0;32m   1190\u001b[0m     \u001b[39mraise\u001b[39;00m StdinNotImplementedError(msg)\n\u001b[1;32m-> 1191\u001b[0m \u001b[39mreturn\u001b[39;00m \u001b[39mself\u001b[39;49m\u001b[39m.\u001b[39;49m_input_request(\n\u001b[0;32m   1192\u001b[0m     \u001b[39mstr\u001b[39;49m(prompt),\n\u001b[0;32m   1193\u001b[0m     \u001b[39mself\u001b[39;49m\u001b[39m.\u001b[39;49m_parent_ident[\u001b[39m\"\u001b[39;49m\u001b[39mshell\u001b[39;49m\u001b[39m\"\u001b[39;49m],\n\u001b[0;32m   1194\u001b[0m     \u001b[39mself\u001b[39;49m\u001b[39m.\u001b[39;49mget_parent(\u001b[39m\"\u001b[39;49m\u001b[39mshell\u001b[39;49m\u001b[39m\"\u001b[39;49m),\n\u001b[0;32m   1195\u001b[0m     password\u001b[39m=\u001b[39;49m\u001b[39mFalse\u001b[39;49;00m,\n\u001b[0;32m   1196\u001b[0m )\n",
      "File \u001b[1;32mc:\\Python311\\Lib\\site-packages\\ipykernel\\kernelbase.py:1234\u001b[0m, in \u001b[0;36mKernel._input_request\u001b[1;34m(self, prompt, ident, parent, password)\u001b[0m\n\u001b[0;32m   1231\u001b[0m \u001b[39mexcept\u001b[39;00m \u001b[39mKeyboardInterrupt\u001b[39;00m:\n\u001b[0;32m   1232\u001b[0m     \u001b[39m# re-raise KeyboardInterrupt, to truncate traceback\u001b[39;00m\n\u001b[0;32m   1233\u001b[0m     msg \u001b[39m=\u001b[39m \u001b[39m\"\u001b[39m\u001b[39mInterrupted by user\u001b[39m\u001b[39m\"\u001b[39m\n\u001b[1;32m-> 1234\u001b[0m     \u001b[39mraise\u001b[39;00m \u001b[39mKeyboardInterrupt\u001b[39;00m(msg) \u001b[39mfrom\u001b[39;00m \u001b[39mNone\u001b[39;00m\n\u001b[0;32m   1235\u001b[0m \u001b[39mexcept\u001b[39;00m \u001b[39mException\u001b[39;00m:\n\u001b[0;32m   1236\u001b[0m     \u001b[39mself\u001b[39m\u001b[39m.\u001b[39mlog\u001b[39m.\u001b[39mwarning(\u001b[39m\"\u001b[39m\u001b[39mInvalid Message:\u001b[39m\u001b[39m\"\u001b[39m, exc_info\u001b[39m=\u001b[39m\u001b[39mTrue\u001b[39;00m)\n",
      "\u001b[1;31mKeyboardInterrupt\u001b[0m: Interrupted by user"
     ]
    }
   ],
   "source": [
    "lista_produtos = ['notebook', 'ssd', 'mouse', 'teclado', 'monitor']\n",
    "produtos_user = []\n",
    "i = 0\n",
    "\n",
    "\n",
    "print(f'De acordo com a lista abaixo, escreva a classificação de seus 5 produtos: \\n',lista_produtos)\n",
    "while i < 5:\n",
    "    i+=1\n",
    "    print('Digite uma classificação a adicionar de acordo com a lista proposta.')\n",
    "    produtos_user.append(input('Leia o sistema no OutPut.'))\n",
    "\n",
    "for k in lista_produtos:\n",
    "    k = lista_produtos\n",
    "    \n",
    "    print(k)\n",
    "    \n",
    "    \n",
    "\n",
    "\n",
    "\n",
    "\n",
    "\n",
    "\n",
    "\n",
    "\n",
    "\n",
    "\n",
    "\n"
   ]
  }
 ],
 "metadata": {
  "kernelspec": {
   "display_name": "Python 3",
   "language": "python",
   "name": "python3"
  },
  "language_info": {
   "codemirror_mode": {
    "name": "ipython",
    "version": 3
   },
   "file_extension": ".py",
   "mimetype": "text/x-python",
   "name": "python",
   "nbconvert_exporter": "python",
   "pygments_lexer": "ipython3",
   "version": "3.11.4"
  },
  "orig_nbformat": 4
 },
 "nbformat": 4,
 "nbformat_minor": 2
}
