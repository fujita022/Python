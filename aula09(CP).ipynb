{
 "cells": [
  {
   "cell_type": "code",
   "execution_count": null,
   "metadata": {},
   "outputs": [],
   "source": [
    "massa = []\n",
    "vluz = 300000\n",
    "forca = ['500','1000','1500','2000','2500','3000']\n",
    "\n",
    "\n",
    "\n"
   ]
  },
  {
   "cell_type": "code",
   "execution_count": 7,
   "metadata": {},
   "outputs": [
    {
     "name": "stdout",
     "output_type": "stream",
     "text": [
      "Lista de nomes: \n",
      " ['rter']\n",
      "Lista de CPFs: \n",
      " ['43543']\n",
      "\n",
      "\n",
      "\n",
      "Lista de nomes: \n",
      " ['rter', 'gertre']\n",
      "Lista de CPFs: \n",
      " ['43543', '43543']\n",
      "\n",
      "\n",
      "\n",
      "Lista de nomes: \n",
      " ['rter', 'gertre', 'retre']\n",
      "Lista de CPFs: \n",
      " ['43543', '43543', '43534']\n",
      "\n",
      "\n",
      "\n",
      "Lista de nomes: \n",
      " ['rter', 'gertre', 'retre', '']\n",
      "Lista de CPFs: \n",
      " ['43543', '43543', '43534', '']\n",
      "\n",
      "\n",
      "\n"
     ]
    }
   ],
   "source": [
    "nomes = []\n",
    "cpfs = []\n",
    "contador = 0\n",
    "\n",
    "while contador < 4:\n",
    "    contador += 1\n",
    "    nome = str(input('Digite um nome: '))\n",
    "    cpf = input('Digite um CPF: ') \n",
    "    nomes.append(nome)\n",
    "    cpfs.append(cpf)\n",
    "    print(f'Lista de nomes: \\n',nomes)\n",
    "    print(f'Lista de CPFs: \\n',cpfs)\n",
    "    print('\\n\\n')"
   ]
  },
  {
   "cell_type": "code",
   "execution_count": 13,
   "metadata": {},
   "outputs": [
    {
     "name": "stdout",
     "output_type": "stream",
     "text": [
      "Seguem os respectivos salários com seus descontos: \n",
      " [1800, 2500, 3200, 4200, 5000]\n",
      "Salários com desconto: \n",
      " [[1620.0], [2000.0, 2560.0, 2940.0, 3500.0], []]\n"
     ]
    }
   ],
   "source": [
    "lista_salarios = [1800, 2500, 3200, 4200, 5000]\n",
    "salario_10 = []\n",
    "salario_20 = []\n",
    "salario_30 = []\n",
    "salarios = [salario_10,salario_20,salario_30]\n",
    "for k in lista_salarios:\n",
    "    if k <=2000:\n",
    "     salario_10.append(k*0.9)\n",
    "\n",
    "    elif k >2000 and k <=4000:\n",
    "        salario_20.append(k*0.8) \n",
    "    else:\n",
    "        salario_20.append(k*0.7)\n",
    "print(f'Seguem os respectivos salários com seus descontos: \\n',lista_salarios)\n",
    "print(f'Salários com desconto: \\n',salarios)\n"
   ]
  },
  {
   "cell_type": "code",
   "execution_count": 25,
   "metadata": {},
   "outputs": [
    {
     "name": "stdout",
     "output_type": "stream",
     "text": [
      "Sistema para calcular valor de 5 produtos do usuário 1!\n",
      "[USUÁRIO_1]A soma dos 5 produtos do usuário 1 inseridos acima é igual a:  7\n",
      "[USUÁRIO_1]A media dos 5 produtos do usuário 1 inseridos acima é igual a:  1.4\n",
      "Obrigado por usar o nosso sistema!!! Vamos para os produtos do usuário 2!\n",
      "\n",
      "\n",
      "\n",
      "Sistema para calcular valor de 5 produtos do usuário 2!\n",
      "[USUÁRIO_2]A soma dos 5 produtos do usuário 2 inseridos acima é igual a:  12\n",
      "[USUÁRIO_2]A media dos 5 produtos do usuário 2 inseridos acima é igual a:  2.4\n"
     ]
    }
   ],
   "source": [
    "produtos = []\n",
    "produtos2 = []\n",
    "p = 0\n",
    "m = 0\n",
    "\n",
    "print('Sistema para calcular valor de 5 produtos do usuário 1!')\n",
    "while p < 5:\n",
    "    p+=1\n",
    "    produtos.append(int(input('[USUÁRIO_1]Digite o valor do primeiro produto:')))\n",
    "    k = sum(produtos)\n",
    "    i = (sum(produtos) / len(produtos))\n",
    "print(f'[USUÁRIO_1]A soma dos 5 produtos do usuário 1 inseridos acima é igual a: ',k)\n",
    "print(f'[USUÁRIO_1]A media dos 5 produtos do usuário 1 inseridos acima é igual a: ',i)\n",
    "\n",
    "print('Obrigado por usar o nosso sistema!!! Vamos para os produtos do usuário 2!\\n\\n\\n')\n",
    "\n",
    "print('Sistema para calcular valor de 5 produtos do usuário 2!')\n",
    "while m < 5:\n",
    "    m +=1\n",
    "    produtos2.append(int(input('[USUÁRIO_2]Digite o valor do primeiro produto:')))\n",
    "    j = sum(produtos2)\n",
    "    l = (sum(produtos2) / len(produtos2))\n",
    "print(f'[USUÁRIO_2]A soma dos 5 produtos do usuário 2 inseridos acima é igual a: ',j)\n",
    "print(f'[USUÁRIO_2]A media dos 5 produtos do usuário 2 inseridos acima é igual a: ',l)\n",
    "print('Obrigado por usar o nosso sistema!!!\\nAté breve.')\n",
    "\n",
    "\n",
    "\n",
    "\n"
   ]
  },
  {
   "cell_type": "code",
   "execution_count": null,
   "metadata": {},
   "outputs": [],
   "source": [
    "produtos_user = []\n",
    "i = 0\n",
    "\n",
    "while i < 5:\n",
    "    i+=1\n",
    "    produtos_user.append(input('Digite '))\n",
    "\n",
    "\n",
    "\n",
    "\n",
    "\n",
    "\n",
    "\n",
    "\n",
    "\n",
    "\n",
    "\n"
   ]
  }
 ],
 "metadata": {
  "kernelspec": {
   "display_name": "Python 3",
   "language": "python",
   "name": "python3"
  },
  "language_info": {
   "codemirror_mode": {
    "name": "ipython",
    "version": 3
   },
   "file_extension": ".py",
   "mimetype": "text/x-python",
   "name": "python",
   "nbconvert_exporter": "python",
   "pygments_lexer": "ipython3",
   "version": "3.11.4"
  },
  "orig_nbformat": 4
 },
 "nbformat": 4,
 "nbformat_minor": 2
}
