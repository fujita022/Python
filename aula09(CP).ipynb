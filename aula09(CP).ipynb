{
 "cells": [
  {
   "cell_type": "code",
   "execution_count": 27,
   "metadata": {},
   "outputs": [
    {
     "name": "stdout",
     "output_type": "stream",
     "text": [
      "Lista de valores de massa respectivamente: \n",
      " [0.0016666666666666668, 0.0033333333333333335, 0.005, 0.006666666666666667, 0.008333333333333333, 0.01]\n"
     ]
    }
   ],
   "source": [
    "#ex 1\n",
    "massas = []\n",
    "vluz = 300000\n",
    "forca = [500,1000,1500,2000,2500,3000]\n",
    "\n",
    "for vf in forca:\n",
    "    massa = vf/vluz\n",
    "    massas.append(massa)\n",
    "\n",
    "print(f'Lista de valores de massa respectivamente: \\n', massas)\n",
    "\n",
    "\n",
    "\n",
    "\n"
   ]
  },
  {
   "cell_type": "code",
   "execution_count": 7,
   "metadata": {},
   "outputs": [
    {
     "name": "stdout",
     "output_type": "stream",
     "text": [
      "Lista de nomes: \n",
      " ['rter']\n",
      "Lista de CPFs: \n",
      " ['43543']\n",
      "\n",
      "\n",
      "\n",
      "Lista de nomes: \n",
      " ['rter', 'gertre']\n",
      "Lista de CPFs: \n",
      " ['43543', '43543']\n",
      "\n",
      "\n",
      "\n",
      "Lista de nomes: \n",
      " ['rter', 'gertre', 'retre']\n",
      "Lista de CPFs: \n",
      " ['43543', '43543', '43534']\n",
      "\n",
      "\n",
      "\n",
      "Lista de nomes: \n",
      " ['rter', 'gertre', 'retre', '']\n",
      "Lista de CPFs: \n",
      " ['43543', '43543', '43534', '']\n",
      "\n",
      "\n",
      "\n"
     ]
    }
   ],
   "source": [
    "#ex 2\n",
    "nomes = []\n",
    "cpfs = []\n",
    "contador = 0\n",
    "\n",
    "while contador < 4:\n",
    "    contador += 1\n",
    "    nome = str(input('Digite um nome: '))\n",
    "    cpf = input('Digite um CPF: ') \n",
    "    nomes.append(nome)\n",
    "    cpfs.append(cpf)\n",
    "    print(f'Lista de nomes: \\n',nomes)\n",
    "    print(f'Lista de CPFs: \\n',cpfs)\n",
    "    print('\\n\\n')"
   ]
  },
  {
   "cell_type": "code",
   "execution_count": 13,
   "metadata": {},
   "outputs": [
    {
     "name": "stdout",
     "output_type": "stream",
     "text": [
      "Seguem os respectivos salários com seus descontos: \n",
      " [1800, 2500, 3200, 4200, 5000]\n",
      "Salários com desconto: \n",
      " [[1620.0], [2000.0, 2560.0, 2940.0, 3500.0], []]\n"
     ]
    }
   ],
   "source": [
    "lista_salarios = [1800, 2500, 3200, 4200, 5000]\n",
    "salario_10 = []\n",
    "salario_20 = []\n",
    "salario_30 = []\n",
    "salarios = [salario_10,salario_20,salario_30]\n",
    "for k in lista_salarios:\n",
    "    if k <=2000:\n",
    "     salario_10.append(k*0.9)\n",
    "\n",
    "    elif k >2000 and k <=4000:\n",
    "        salario_20.append(k*0.8) \n",
    "    else:\n",
    "        salario_20.append(k*0.7)\n",
    "print(f'Seguem os respectivos salários com seus descontos: \\n',lista_salarios)\n",
    "print(f'Salários com desconto: \\n',salarios)\n"
   ]
  },
  {
   "cell_type": "code",
   "execution_count": 25,
   "metadata": {},
   "outputs": [
    {
     "name": "stdout",
     "output_type": "stream",
     "text": [
      "Sistema para calcular valor de 5 produtos do usuário 1!\n",
      "[USUÁRIO_1]A soma dos 5 produtos do usuário 1 inseridos acima é igual a:  7\n",
      "[USUÁRIO_1]A media dos 5 produtos do usuário 1 inseridos acima é igual a:  1.4\n",
      "Obrigado por usar o nosso sistema!!! Vamos para os produtos do usuário 2!\n",
      "\n",
      "\n",
      "\n",
      "Sistema para calcular valor de 5 produtos do usuário 2!\n",
      "[USUÁRIO_2]A soma dos 5 produtos do usuário 2 inseridos acima é igual a:  12\n",
      "[USUÁRIO_2]A media dos 5 produtos do usuário 2 inseridos acima é igual a:  2.4\n"
     ]
    }
   ],
   "source": [
    "#ex4\n",
    "produtos = []\n",
    "produtos2 = []\n",
    "p = 0\n",
    "m = 0\n",
    "\n",
    "print('Sistema para calcular valor de 5 produtos do usuário 1!')\n",
    "while p < 5:\n",
    "    p+=1\n",
    "    produtos.append(int(input('[USUÁRIO_1]Digite o valor do primeiro produto:')))\n",
    "    k = sum(produtos)\n",
    "    i = (sum(produtos) / len(produtos))\n",
    "print(f'[USUÁRIO_1]A soma dos 5 produtos do usuário 1 inseridos acima é igual a: ',k)\n",
    "print(f'[USUÁRIO_1]A media dos 5 produtos do usuário 1 inseridos acima é igual a: ',i)\n",
    "\n",
    "print('Obrigado por usar o nosso sistema!!! Vamos para os produtos do usuário 2!\\n\\n\\n')\n",
    "\n",
    "print('Sistema para calcular valor de 5 produtos do usuário 2!')\n",
    "while m < 5:\n",
    "    m +=1\n",
    "    produtos2.append(int(input('[USUÁRIO_2]Digite o valor do primeiro produto:')))\n",
    "    j = sum(produtos2)\n",
    "    l = (sum(produtos2) / len(produtos2))\n",
    "print(f'[USUÁRIO_2]A soma dos 5 produtos do usuário 2 inseridos acima é igual a: ',j)\n",
    "print(f'[USUÁRIO_2]A media dos 5 produtos do usuário 2 inseridos acima é igual a: ',l)\n",
    "print('Obrigado por usar o nosso sistema!!!\\nAté breve.')\n",
    "\n",
    "\n",
    "\n",
    "\n"
   ]
  },
  {
   "cell_type": "code",
   "execution_count": 55,
   "metadata": {},
   "outputs": [
    {
     "name": "stdout",
     "output_type": "stream",
     "text": [
      "De acordo com a lista abaixo, escreva a classificação de seus 5 produtos: \n",
      " ['notebook', 'ssd', 'mouse', 'teclado', 'monitor']\n",
      "Digite uma classificação a adicionar de acordo com a lista proposta.\n",
      "Produtos adicionados:  1\n",
      "['ssd']\n",
      "Produtos listados: \n",
      " Mouses: 0 \n",
      " Ssd: 1 \n",
      " Notebook: 0 \n",
      " Teclado: 0 \n",
      " Monitor: 0\n",
      "Produtos adicionados:  2\n",
      "['ssd', 'ssd']\n",
      "Produtos listados: \n",
      " Mouses: 0 \n",
      " Ssd: 2 \n",
      " Notebook: 0 \n",
      " Teclado: 0 \n",
      " Monitor: 0\n",
      "Produtos adicionados:  3\n",
      "['ssd', 'ssd', 'ssd']\n",
      "Produtos listados: \n",
      " Mouses: 0 \n",
      " Ssd: 3 \n",
      " Notebook: 0 \n",
      " Teclado: 0 \n",
      " Monitor: 0\n",
      "Produtos adicionados:  4\n",
      "['ssd', 'ssd', 'ssd', 'mouse']\n",
      "Produtos listados: \n",
      " Mouses: 1 \n",
      " Ssd: 3 \n",
      " Notebook: 0 \n",
      " Teclado: 0 \n",
      " Monitor: 0\n",
      "Produtos adicionados:  5\n",
      "['ssd', 'ssd', 'ssd', 'mouse', 'teclado']\n",
      "Produtos listados: \n",
      " Mouses: 1 \n",
      " Ssd: 3 \n",
      " Notebook: 0 \n",
      " Teclado: 1 \n",
      " Monitor: 0\n",
      "Houve um erro em seus produtos\n"
     ]
    }
   ],
   "source": [
    "#ex 5\n",
    "lista_produtos = ['notebook', 'ssd', 'mouse', 'teclado', 'monitor']\n",
    "produtos_user = []\n",
    "i = 0\n",
    "\n",
    "\n",
    "print(f'De acordo com a lista abaixo, escreva a classificação de seus 5 produtos: \\n',lista_produtos)\n",
    "print('Digite uma classificação a adicionar de acordo com a lista proposta.')\n",
    "while i < 5:\n",
    "    i+=1\n",
    "    print('Produtos adicionados: ',i )\n",
    "    produtos1 = str(input('Leia o sistema no OutPut.'))\n",
    "    produtos_user.append(produtos1)\n",
    "    print(produtos_user)\n",
    "    for k in range(1):\n",
    "     k+=1\n",
    "    if produtos1 in lista_produtos:\n",
    "     print(f\"Produtos listados: \\n Mouses: {produtos_user.count('mouse')} \\n Ssd: {produtos_user.count('ssd')} \\n Notebook: {produtos_user.count('notebook')} \\n Teclado: {produtos_user.count('teclado')} \\n Monitor: {produtos_user.count('monitor')}\")\n",
    "else:\n",
    "    print('Houve um erro em seus produtos')\n",
    "      \n",
    "\n",
    "\n",
    "\n",
    "\n",
    "\n",
    "\n",
    "\n",
    "\n",
    "\n",
    "\n"
   ]
  }
 ],
 "metadata": {
  "kernelspec": {
   "display_name": "Python 3",
   "language": "python",
   "name": "python3"
  },
  "language_info": {
   "codemirror_mode": {
    "name": "ipython",
    "version": 3
   },
   "file_extension": ".py",
   "mimetype": "text/x-python",
   "name": "python",
   "nbconvert_exporter": "python",
   "pygments_lexer": "ipython3",
   "version": "3.11.4"
  },
  "orig_nbformat": 4
 },
 "nbformat": 4,
 "nbformat_minor": 2
}
