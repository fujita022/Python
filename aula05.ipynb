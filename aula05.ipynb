{
 "cells": [
  {
   "cell_type": "code",
   "execution_count": null,
   "metadata": {},
   "outputs": [],
   "source": [
    "idade = int(input('Digite sua idade: '))\n",
    "total_compra = float(input('Insira o valor da sua compra: '))\n",
    "\n",
    "#desconto\n",
    "\n",
    "if idade >= 65:\n",
    "    if total_compra >=100:\n",
    "        print('Você terá 10% de desconto')\n",
    "    else:\n",
    "        print('Você não terá direito ao desconto.\\nMotivo: Valor da compra.')\n",
    "else: \n",
    "    print('Você está fora da idade para obter o desconto.')"
   ]
  },
  {
   "cell_type": "code",
   "execution_count": 40,
   "metadata": {},
   "outputs": [
    {
     "name": "stdout",
     "output_type": "stream",
     "text": [
      "O carro está na faixa de idade, mas não é um Volvo.\n",
      "Seu carro é um: fiat\n"
     ]
    }
   ],
   "source": [
    "# exercicio 2\n",
    "idade_carro = int(input('Digite o ano do seu veículo: '))\n",
    "if  2013 <= idade_carro <= 2015:\n",
    "    marca_carro = (input('Digite a marca de seu carro: '))\n",
    "    if marca_carro == \"Volvo\" or marca_carro == \"volvo\":\n",
    "        print('O carro é Volvo e foi fabricado entre 2013 e 2015')\n",
    "    else:\n",
    "        print(f'O carro está na faixa de idade, mas não é um Volvo.\\nSeu carro é um: {marca_carro}')\n",
    "else:\n",
    "      print('O carro está fora da faixa de idade')\n",
    "\n"
   ]
  },
  {
   "cell_type": "code",
   "execution_count": 49,
   "metadata": {},
   "outputs": [
    {
     "name": "stdout",
     "output_type": "stream",
     "text": [
      "Hora de caminhar no parque.\n"
     ]
    }
   ],
   "source": [
    "#exercicio 3\n",
    "\n",
    "hora = int(input('Digite o horário: '))\n",
    "temp = int(input('Digite a temperatura em graus celsius: '))\n",
    "\n",
    "if 6 <= hora <=12:\n",
    "    if temp > 20:\n",
    "        print('Hora de caminhar no parque.')\n",
    "    else: \n",
    "        print('Tomar café da manhã.')\n",
    "elif 12 < hora < 18:\n",
    "    if temp > 25:\n",
    "        print('Dia de piquenique.')\n",
    "    else:\n",
    "        print('Hora de almoçar.')\n",
    "else:\n",
    "    print('Relaxa em casa.')"
   ]
  },
  {
   "cell_type": "code",
   "execution_count": null,
   "metadata": {},
   "outputs": [],
   "source": [
    "#exercicio 4\n",
    "\n",
    "idd_pedido = int(input('Digite a idade do pedido'))\n",
    "\n",
    "if 7 <= idd_pedido:\n",
    "    tp_cliente = str(input('Digite o tipo de cliente:'))\n",
    "    if tp_cliente == \"VIP\" or tp_cliente == \"VIP\":\n",
    "        print('Seu pedido está sendo preparado para entrega expressa.')\n",
    "    else:\n",
    "        print('Seu pedido está a caminho.')\n",
    "\n",
    "elif 7 < idade < 14:\n",
    "    tp_cliente = str(input('Digite o tipo de cliente:'))\n",
    "    if tp_cliente == \"VIP\" or tp_cliente == \"VIP\":\n",
    "        print('Seu pedido está em processo com embalagem especial.')\n",
    "    else: \n",
    "        print('Pedido sendo preparado.')\n",
    "        \n",
    "else:\n",
    "    print('Pedido a caminho.')\n",
    "\n",
    "\n"
   ]
  },
  {
   "cell_type": "code",
   "execution_count": 50,
   "metadata": {},
   "outputs": [
    {
     "name": "stdout",
     "output_type": "stream",
     "text": [
      "Seja bem-vindo.\n"
     ]
    }
   ],
   "source": [
    "#exercicio 5\n",
    "register = \n",
    "user = str(input('Digite o usuário: '))\n",
    "senha = input('Digite a senha: ')\n",
    "\n",
    "if user == user and senha == senha:\n",
    "    print('Seja bem-vindo.')\n",
    "else: \n",
    "    print('Senha ou usuário incorreto.')"
   ]
  },
  {
   "attachments": {},
   "cell_type": "markdown",
   "metadata": {},
   "source": [
    "Contagem até 5"
   ]
  },
  {
   "cell_type": "code",
   "execution_count": 15,
   "metadata": {},
   "outputs": [
    {
     "name": "stdout",
     "output_type": "stream",
     "text": [
      "0\n",
      "1\n",
      "2\n",
      "3\n",
      "4\n",
      "5\n"
     ]
    }
   ],
   "source": [
    "i = 0\n",
    "while i <= 5 :\n",
    "    print(i)\n",
    "    i+=1\n"
   ]
  },
  {
   "cell_type": "code",
   "execution_count": 20,
   "metadata": {},
   "outputs": [],
   "source": [
    "i = 10\n",
    "while i <= 0:\n",
    "    print(i)"
   ]
  },
  {
   "cell_type": "code",
   "execution_count": 21,
   "metadata": {},
   "outputs": [
    {
     "name": "stdout",
     "output_type": "stream",
     "text": [
      "2F - -16.666666666666668C\n",
      "2F - -16.666666666666668C\n",
      "2F - -16.666666666666668C\n",
      "2F - -16.666666666666668C\n",
      "2F - -16.666666666666668C\n",
      "30F - -1.1111111111111112C\n",
      "40F - 4.444444444444445C\n",
      "40F - 4.444444444444445C\n",
      "40F - 4.444444444444445C\n",
      "3F - -16.11111111111111C\n"
     ]
    },
    {
     "ename": "KeyboardInterrupt",
     "evalue": "Interrupted by user",
     "output_type": "error",
     "traceback": [
      "\u001b[1;31m---------------------------------------------------------------------------\u001b[0m",
      "\u001b[1;31mKeyboardInterrupt\u001b[0m                         Traceback (most recent call last)",
      "Cell \u001b[1;32mIn[21], line 7\u001b[0m\n\u001b[0;32m      5\u001b[0m temp_celsius \u001b[39m=\u001b[39m (\u001b[39m5\u001b[39m\u001b[39m/\u001b[39m\u001b[39m9\u001b[39m) \u001b[39m*\u001b[39m (temp_fhrt \u001b[39m-\u001b[39m \u001b[39m32\u001b[39m)\n\u001b[0;32m      6\u001b[0m \u001b[39mprint\u001b[39m(\u001b[39mf\u001b[39m\u001b[39m'\u001b[39m\u001b[39m{\u001b[39;00mtemp_fhrt\u001b[39m}\u001b[39;00m\u001b[39mF - \u001b[39m\u001b[39m{\u001b[39;00mtemp_celsius\u001b[39m}\u001b[39;00m\u001b[39mC\u001b[39m\u001b[39m'\u001b[39m)\n\u001b[1;32m----> 7\u001b[0m temp_fhrt \u001b[39m=\u001b[39m \u001b[39mint\u001b[39m(\u001b[39minput\u001b[39;49m(\u001b[39m'\u001b[39;49m\u001b[39mInsira a temperatura em farenheirt:\u001b[39;49m\u001b[39m'\u001b[39;49m))\n",
      "File \u001b[1;32mc:\\Python311\\Lib\\site-packages\\ipykernel\\kernelbase.py:1191\u001b[0m, in \u001b[0;36mKernel.raw_input\u001b[1;34m(self, prompt)\u001b[0m\n\u001b[0;32m   1189\u001b[0m     msg \u001b[39m=\u001b[39m \u001b[39m\"\u001b[39m\u001b[39mraw_input was called, but this frontend does not support input requests.\u001b[39m\u001b[39m\"\u001b[39m\n\u001b[0;32m   1190\u001b[0m     \u001b[39mraise\u001b[39;00m StdinNotImplementedError(msg)\n\u001b[1;32m-> 1191\u001b[0m \u001b[39mreturn\u001b[39;00m \u001b[39mself\u001b[39;49m\u001b[39m.\u001b[39;49m_input_request(\n\u001b[0;32m   1192\u001b[0m     \u001b[39mstr\u001b[39;49m(prompt),\n\u001b[0;32m   1193\u001b[0m     \u001b[39mself\u001b[39;49m\u001b[39m.\u001b[39;49m_parent_ident[\u001b[39m\"\u001b[39;49m\u001b[39mshell\u001b[39;49m\u001b[39m\"\u001b[39;49m],\n\u001b[0;32m   1194\u001b[0m     \u001b[39mself\u001b[39;49m\u001b[39m.\u001b[39;49mget_parent(\u001b[39m\"\u001b[39;49m\u001b[39mshell\u001b[39;49m\u001b[39m\"\u001b[39;49m),\n\u001b[0;32m   1195\u001b[0m     password\u001b[39m=\u001b[39;49m\u001b[39mFalse\u001b[39;49;00m,\n\u001b[0;32m   1196\u001b[0m )\n",
      "File \u001b[1;32mc:\\Python311\\Lib\\site-packages\\ipykernel\\kernelbase.py:1234\u001b[0m, in \u001b[0;36mKernel._input_request\u001b[1;34m(self, prompt, ident, parent, password)\u001b[0m\n\u001b[0;32m   1231\u001b[0m \u001b[39mexcept\u001b[39;00m \u001b[39mKeyboardInterrupt\u001b[39;00m:\n\u001b[0;32m   1232\u001b[0m     \u001b[39m# re-raise KeyboardInterrupt, to truncate traceback\u001b[39;00m\n\u001b[0;32m   1233\u001b[0m     msg \u001b[39m=\u001b[39m \u001b[39m\"\u001b[39m\u001b[39mInterrupted by user\u001b[39m\u001b[39m\"\u001b[39m\n\u001b[1;32m-> 1234\u001b[0m     \u001b[39mraise\u001b[39;00m \u001b[39mKeyboardInterrupt\u001b[39;00m(msg) \u001b[39mfrom\u001b[39;00m \u001b[39mNone\u001b[39;00m\n\u001b[0;32m   1235\u001b[0m \u001b[39mexcept\u001b[39;00m \u001b[39mException\u001b[39;00m:\n\u001b[0;32m   1236\u001b[0m     \u001b[39mself\u001b[39m\u001b[39m.\u001b[39mlog\u001b[39m.\u001b[39mwarning(\u001b[39m\"\u001b[39m\u001b[39mInvalid Message:\u001b[39m\u001b[39m\"\u001b[39m, exc_info\u001b[39m=\u001b[39m\u001b[39mTrue\u001b[39;00m)\n",
      "\u001b[1;31mKeyboardInterrupt\u001b[0m: Interrupted by user"
     ]
    }
   ],
   "source": [
    "temp_celsius = 0\n",
    "temp_fhrt = int(input('Insira a temperatura em farenheirt:'))\n",
    "\n",
    "while temp_fhrt != 0:\n",
    "    temp_celsius = (5/9) * (temp_fhrt - 32)\n",
    "    print(f'{temp_fhrt}F - {temp_celsius}C')\n",
    "    temp_fhrt = int(input('Insira a temperatura em farenheirt:'))\n"
   ]
  }
 ],
 "metadata": {
  "kernelspec": {
   "display_name": "Python 3",
   "language": "python",
   "name": "python3"
  },
  "language_info": {
   "codemirror_mode": {
    "name": "ipython",
    "version": 3
   },
   "file_extension": ".py",
   "mimetype": "text/x-python",
   "name": "python",
   "nbconvert_exporter": "python",
   "pygments_lexer": "ipython3",
   "version": "3.11.4"
  },
  "orig_nbformat": 4
 },
 "nbformat": 4,
 "nbformat_minor": 2
}
