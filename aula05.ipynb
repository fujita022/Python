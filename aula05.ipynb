{
 "cells": [
  {
   "cell_type": "code",
   "execution_count": null,
   "metadata": {},
   "outputs": [],
   "source": [
    "idade = int(input('Digite sua idade: '))\n",
    "total_compra = float(input('Insira o valor da sua compra: '))\n",
    "\n",
    "#desconto\n",
    "\n",
    "if idade >= 65:\n",
    "    if total_compra >=100:\n",
    "        print('Você terá 10% de desconto')\n",
    "    else:\n",
    "        print('Você não terá direito ao desconto.\\nMotivo: Valor da compra.')\n",
    "else: \n",
    "    print('Você está fora da idade para obter o desconto.')"
   ]
  },
  {
   "cell_type": "code",
   "execution_count": 40,
   "metadata": {},
   "outputs": [
    {
     "name": "stdout",
     "output_type": "stream",
     "text": [
      "O carro está na faixa de idade, mas não é um Volvo.\n",
      "Seu carro é um: fiat\n"
     ]
    }
   ],
   "source": [
    "# exercicio 2\n",
    "idade_carro = int(input('Digite o ano do seu veículo: '))\n",
    "if  2013 <= idade_carro <= 2015:\n",
    "    marca_carro = (input('Digite a marca de seu carro: '))\n",
    "    if marca_carro == \"Volvo\" or marca_carro == \"volvo\":\n",
    "        print('O carro é Volvo e foi fabricado entre 2013 e 2015')\n",
    "    else:\n",
    "        print(f'O carro está na faixa de idade, mas não é um Volvo.\\nSeu carro é um: {marca_carro}')\n",
    "else:\n",
    "      print('O carro está fora da faixa de idade')\n",
    "\n"
   ]
  },
  {
   "cell_type": "code",
   "execution_count": 49,
   "metadata": {},
   "outputs": [
    {
     "name": "stdout",
     "output_type": "stream",
     "text": [
      "Hora de caminhar no parque.\n"
     ]
    }
   ],
   "source": [
    "#exercicio 3\n",
    "\n",
    "hora = int(input('Digite o horário: '))\n",
    "temp = int(input('Digite a temperatura em graus celsius: '))\n",
    "\n",
    "if 6 <= hora <=12:\n",
    "    if temp > 20:\n",
    "        print('Hora de caminhar no parque.')\n",
    "    else: \n",
    "        print('Tomar café da manhã.')\n",
    "elif 12 < hora < 18:\n",
    "    if temp > 25:\n",
    "        print('Dia de piquenique.')\n",
    "    else:\n",
    "        print('Hora de almoçar.')\n",
    "else:\n",
    "    print('Relaxa em casa.')"
   ]
  },
  {
   "cell_type": "code",
   "execution_count": null,
   "metadata": {},
   "outputs": [],
   "source": [
    "#exercicio 4\n",
    "\n",
    "idd_pedido = int(input('Digite a idade do pedido'))\n",
    "\n",
    "if 7 <= idd_pedido:\n",
    "    tp_cliente = str(input('Digite o tipo de cliente:'))\n",
    "    if tp_cliente == \"VIP\" or tp_cliente == \"VIP\":\n",
    "        print('Seu pedido está sendo preparado para entrega expressa.')\n",
    "    else:\n",
    "        print('Seu pedido está a caminho.')\n",
    "\n",
    "elif 7 < idade < 14:\n",
    "    tp_cliente = str(input('Digite o tipo de cliente:'))\n",
    "    if tp_cliente == \"VIP\" or tp_cliente == \"VIP\":\n",
    "        print('Seu pedido está em processo com embalagem especial.')\n",
    "    else: \n",
    "        print('Pedido sendo preparado.')\n",
    "        \n",
    "else:\n",
    "    print('Pedido a caminho.')\n",
    "\n",
    "\n"
   ]
  },
  {
   "cell_type": "code",
   "execution_count": 50,
   "metadata": {},
   "outputs": [
    {
     "name": "stdout",
     "output_type": "stream",
     "text": [
      "Seja bem-vindo.\n"
     ]
    }
   ],
   "source": [
    "#exercicio 5\n",
    "register = \n",
    "user = str(input('Digite o usuário: '))\n",
    "senha = input('Digite a senha: ')\n",
    "\n",
    "if user == user and senha == senha:\n",
    "    print('Seja bem-vindo.')\n",
    "else: \n",
    "    print('Senha ou usuário incorreto.')"
   ]
  },
  {
   "cell_type": "code",
   "execution_count": 56,
   "metadata": {},
   "outputs": [],
   "source": [
    "i = 0\n",
    "while i >= 0 :\n",
    "    print(i)\n",
    "    i+=1\n"
   ]
  }
 ],
 "metadata": {
  "kernelspec": {
   "display_name": "Python 3",
   "language": "python",
   "name": "python3"
  },
  "language_info": {
   "name": "python",
   "version": "3.11.4"
  },
  "orig_nbformat": 4
 },
 "nbformat": 4,
 "nbformat_minor": 2
}
