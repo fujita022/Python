{
 "cells": [
  {
   "cell_type": "code",
   "execution_count": null,
   "metadata": {},
   "outputs": [],
   "source": [
    "pip install sympy"
   ]
  },
  {
   "cell_type": "code",
   "execution_count": null,
   "metadata": {},
   "outputs": [],
   "source": [
    "from sympy import *"
   ]
  },
  {
   "cell_type": "code",
   "execution_count": null,
   "metadata": {},
   "outputs": [],
   "source": [
    "x = Symbol(\"X\")"
   ]
  },
  {
   "cell_type": "code",
   "execution_count": null,
   "metadata": {},
   "outputs": [],
   "source": [
    "Derivative (x**2).doit()"
   ]
  },
  {
   "cell_type": "code",
   "execution_count": null,
   "metadata": {},
   "outputs": [],
   "source": [
    "nome = input('Digite seu nome:',)\n",
    "print('Olá',nome,'agora digite sua idade:')\n",
    "idade = input('Sua idade:')\n",
    "print('Certo, agora sua cidade:')\n",
    "cidade = input('Sua cidade:')\n",
    "\n",
    "print('Sua apresentação:')\n",
    "print('Meu nome é',nome,'tenho',idade,'anos e moro na cidade de',cidade,)"
   ]
  },
  {
   "cell_type": "code",
   "execution_count": null,
   "metadata": {},
   "outputs": [],
   "source": [
    "string = \"banana\" \n",
    "uppercase_string = string.upper()\n",
    "lowercase_string = string.lower()\n",
    "\n",
    "print(uppercase_string)\n",
    "print(lowercase_string)\n",
    "\n",
    "new_string = string.replace(\"a\", \"o\")\n",
    "print(new_string)"
   ]
  },
  {
   "cell_type": "code",
   "execution_count": null,
   "metadata": {},
   "outputs": [],
   "source": [
    "string = \"macaco,vespa,escorpiao\"\n",
    "substring = string.split(\",\")\n",
    "print(substring)"
   ]
  },
  {
   "cell_type": "code",
   "execution_count": 149,
   "metadata": {},
   "outputs": [
    {
     "name": "stdout",
     "output_type": "stream",
     "text": [
      "Erick Moreira Fujita\n"
     ]
    }
   ],
   "source": [
    "nome = input('Digite seu nome:')\n",
    "sobrenome1 = input('Digite seu nome do meio:')\n",
    "sobrenome2 = input('Digite seu último nome:')\n",
    "\n",
    "s1 = nome[0].upper()+nome[1:].lower()\n",
    "s2 = sobrenome1[0].upper()+sobrenome1[1:].lower()\n",
    "s3 = sobrenome2[0].upper()+sobrenome2[1:].lower()\n",
    "\n",
    "\n",
    "print(s1, s2, s3)"
   ]
  }
 ],
 "metadata": {
  "kernelspec": {
   "display_name": "Python 3",
   "language": "python",
   "name": "python3"
  },
  "language_info": {
   "codemirror_mode": {
    "name": "ipython",
    "version": 3
   },
   "file_extension": ".py",
   "mimetype": "text/x-python",
   "name": "python",
   "nbconvert_exporter": "python",
   "pygments_lexer": "ipython3",
   "version": "3.11.4"
  },
  "orig_nbformat": 4
 },
 "nbformat": 4,
 "nbformat_minor": 2
}
