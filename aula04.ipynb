{
 "cells": [
  {
   "cell_type": "code",
   "execution_count": null,
   "metadata": {},
   "outputs": [],
   "source": [
    "#ex 1\n",
    "\n",
    "n1 = float(input('Digite a primeira nota: '))\n",
    "n2 = float(input('Digite a segunda nota: '))\n",
    "n3 = float(input('Digite a terceira nota: '))\n",
    "artigo = int(input('Digite 1 se você tem um artigo publicado, e 2 caso não tenha.'))\n",
    "\n",
    "media = (n1+n2+n3) / 3\n",
    "\n",
    "\n",
    "if media >= 7:\n",
    "    print(f'Aprovado com média: {media}')\n",
    "elif media >=4 and media < 7:\n",
    "    print(f'Recuperacão com média: {media}')\n",
    "elif media< 4 and artigo == 1:\n",
    "    print(f'Você foi aprovado porque você tem um artigo publicado.')\n",
    "else: \n",
    "    print('Reprovado')"
   ]
  },
  {
   "cell_type": "code",
   "execution_count": null,
   "metadata": {},
   "outputs": [],
   "source": [
    "#ex 2\n",
    "\n",
    "print('Velocidade permitida: 80km/h')\n",
    "velocidade = float(input('Qual a velocidade do veículo em km/h?'))\n",
    "multa = (velocidade - 80) * 5\n",
    "if velocidade <= 80:\n",
    "    print(f'Você está de acordo com a velocidade permitida: {velocidade}')\n",
    "    \n",
    "else: \n",
    "    print(f'Você foi multado por excesso de velocidade! Velocidade = {velocidade}')\n",
    "    print(f'Você foi multado no valor de {multa}R$.')\n"
   ]
  },
  {
   "cell_type": "code",
   "execution_count": null,
   "metadata": {},
   "outputs": [],
   "source": [
    "#ex 3\n",
    "\n",
    "idade = int(input('Digite a sua idade: '))\n",
    "\n",
    "if idade <= 11:\n",
    "    print(f'Você é uma criança: {idade} anos.')\n",
    "elif idade >= 12 and idade  <=18:\n",
    "    print(f'Você é um adolescente: {idade} anos.')\n",
    "elif idade >= 18 and idade < 65:\n",
    "    print(f'Você é um adulto: {idade} anos.')\n",
    "else:\n",
    "    print(f'Você é muito velhooo: {idade} anos.')"
   ]
  },
  {
   "cell_type": "code",
   "execution_count": 59,
   "metadata": {},
   "outputs": [
    {
     "name": "stdout",
     "output_type": "stream",
     "text": [
      "É impar\n"
     ]
    }
   ],
   "source": [
    "#ex 4\n",
    "\n",
    "numero = float(input('Digite um número: '))\n",
    "if numero % 2 == 0:\n",
    "    print('É par')\n",
    "else:\n",
    "    print('É impar')"
   ]
  },
  {
   "cell_type": "code",
   "execution_count": 46,
   "metadata": {},
   "outputs": [
    {
     "name": "stdout",
     "output_type": "stream",
     "text": [
      "Há dois números iguais.\n"
     ]
    }
   ],
   "source": [
    "#ex 5\n",
    "\n",
    "a = float(input('Digite o primeiro número: '))\n",
    "b = float(input('Digite o segundo número: '))\n",
    "c = float(input('Digite o terceiro número: '))\n",
    "\n",
    "if a > b > c:\n",
    "    print(f'O primeiro número é o maior: {a}, sendo o segundo {b} e o terceiro {c}')\n",
    "elif a < b > c:\n",
    "    print(f'O segundo número é o maior: {b}, sendo o primeiro número {a} e o terceiro número {c} ')\n",
    "elif a < b < c:\n",
    "    print(f'O terceiro número é o maior: {c}, sendo o primeiro número {a} e o segundo número {b} ')\n",
    "elif a ==b and b == c and a==c:\n",
    "    print('Todos os números são iguais, nenhum é maior.')\n",
    "else:\n",
    "  print(\"Há dois números iguais. Impossível acusar um maior.\")"
   ]
  },
  {
   "cell_type": "code",
   "execution_count": 67,
   "metadata": {},
   "outputs": [
    {
     "name": "stdout",
     "output_type": "stream",
     "text": [
      "1.Azul\n",
      "2.Verde\n",
      "3.Amarelo\n",
      "4.Preto\n",
      "5.Branco\n",
      "O número é:\n",
      "Amarelo\n"
     ]
    }
   ],
   "source": [
    "#ex 6\n",
    "\n",
    "print('1.Azul\\n2.Verde\\n3.Amarelo\\n4.Preto\\n5.Branco\\n')\n",
    "\n",
    "numero = int(input('Digite o número desejado: '))\n",
    "\n",
    "if numero == 1:\n",
    "    print('O número é:\\nAzul')\n",
    "elif numero == 2:\n",
    "    print('O número é:\\nVerde')\n",
    "elif numero == 3:\n",
    "    print('O número é:\\nAmarelo')\n",
    "elif numero == 4:\n",
    "    print('O número é:\\nPreto')\n",
    "elif numero == 5:\n",
    "    print('O número é:\\nBranco')\n",
    "else: \n",
    "    print('Digite um número listado.')"
   ]
  },
  {
   "cell_type": "code",
   "execution_count": 64,
   "metadata": {},
   "outputs": [
    {
     "name": "stdout",
     "output_type": "stream",
     "text": [
      "Você está isento de impostos.\n"
     ]
    }
   ],
   "source": [
    "#ex 7\n",
    "\n",
    "salario = float(input('Digite a sua renda mensal(por pessoa): '))\n",
    "if salario < 2000:\n",
    "    print(f'Você pagará {salario * 0.1}R$ de imposto')\n",
    "    print(f'Salário final: {salario - (salario * 0.1)}')\n",
    "elif 2000 <= salario < 5000:\n",
    "    print(f'Você pagará {salario * 0.2}R$ de imposto')\n",
    "    print(f'Salário final: {salario - (salario * 0.2)}')\n",
    "elif 5000 <= salario < 10000:\n",
    "    print(f'Você pagará {salario * 0.24}R$ de imposto')\n",
    "    print(f'Salário final: {salario - (salario * 0.24)}')\n",
    "else:\n",
    "    print(f'Você pagará {salario * 0.3}R$ de imposto')\n",
    "    print(f'Salário final: {salario - (salario * 0.3)}')"
   ]
  },
  {
   "cell_type": "code",
   "execution_count": 71,
   "metadata": {},
   "outputs": [
    {
     "name": "stdout",
     "output_type": "stream",
     "text": [
      "Requirement already satisfied: pylance in c:\\python311\\lib\\site-packages (0.10.5)\n",
      "Requirement already satisfied: pyarrow<15.0.1,>=12 in c:\\python311\\lib\\site-packages (from pylance) (15.0.0)\n",
      "Requirement already satisfied: numpy>=1.22 in c:\\python311\\lib\\site-packages (from pylance) (1.26.4)\n",
      "Note: you may need to restart the kernel to use updated packages.\n"
     ]
    },
    {
     "name": "stderr",
     "output_type": "stream",
     "text": [
      "\n",
      "[notice] A new release of pip is available: 23.1.2 -> 24.0\n",
      "[notice] To update, run: python.exe -m pip install --upgrade pip\n"
     ]
    }
   ],
   "source": [
    "pip install pylance"
   ]
  },
  {
   "cell_type": "code",
   "execution_count": 68,
   "metadata": {},
   "outputs": [
    {
     "ename": "SyntaxError",
     "evalue": "invalid syntax (556617462.py, line 1)",
     "output_type": "error",
     "traceback": [
      "\u001b[1;36m  Cell \u001b[1;32mIn[68], line 1\u001b[1;36m\u001b[0m\n\u001b[1;33m    pip install pylance\u001b[0m\n\u001b[1;37m        ^\u001b[0m\n\u001b[1;31mSyntaxError\u001b[0m\u001b[1;31m:\u001b[0m invalid syntax\n"
     ]
    }
   ],
   "source": [
    "\n",
    "\n",
    "dia = input('Digite o dia da semana')\n",
    "list == [sabado,domingo,segunda,terca,quarta,quinta,sexta]\n",
    "\n",
    "if dia_sem == "
   ]
  }
 ],
 "metadata": {
  "kernelspec": {
   "display_name": "Python 3",
   "language": "python",
   "name": "python3"
  },
  "language_info": {
   "codemirror_mode": {
    "name": "ipython",
    "version": 3
   },
   "file_extension": ".py",
   "mimetype": "text/x-python",
   "name": "python",
   "nbconvert_exporter": "python",
   "pygments_lexer": "ipython3",
   "version": "3.11.4"
  },
  "orig_nbformat": 4
 },
 "nbformat": 4,
 "nbformat_minor": 2
}
