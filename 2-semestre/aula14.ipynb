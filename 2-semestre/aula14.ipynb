{
 "cells": [
  {
   "cell_type": "code",
   "execution_count": null,
   "metadata": {},
   "outputs": [],
   "source": [
    "dados = (('youtube', 550, 10),\n",
    "('facebook', 822,50),\n",
    "('linkedin', 1226,5),\n",
    "('instagram', 55000,65))\n",
    "\n",
    "likes = 0\n",
    "deslikes = 0\n",
    "\n",
    "for k in dados:\n",
    "    likes += k[1]\n",
    "    deslikes += k[2]\n",
    "\n",
    "print(f'Likes total:{likes}')\n",
    "print(f'Deslikes total: {deslikes}')\n",
    "\n",
    "media_likes = (likes /len(dados))\n",
    "medias_deslikes = (deslikes /len(dados))\n",
    "\n",
    "print(f'A média de likes é: {media_likes}')\n",
    "print(f'A média de deslikes é: {medias_deslikes}')\n",
    "\n",
    "likes = []\n",
    "\n",
    "for j in dados:\n",
    "    likes.append(j[1])\n",
    "\n",
    "maior_likes = print(max(likes))\n",
    "menos_likes = print(min(likes))\n",
    "\n",
    "taxa_Likes = []\n",
    "\n",
    "for t in dados:\n",
    "    taxa_like = ((t[1]/(t[1] + t[2])) * 100) \n",
    "    taxa_Likes.append(taxa_like)\n",
    "\n",
    "print(f'A taxa é de {taxa_like}%')\n",
    "\n",
    "menorTaxa = min(taxa_Likes)\n",
    "maiorTaxa = max(taxa_Likes)\n",
    "\n",
    "print(f'A menor taxa é: {menorTaxa}')\n",
    "print(f'A maior taxa é : {maiorTaxa}')\n",
    "\n",
    "\n",
    "\n"
   ]
  },
  {
   "cell_type": "code",
   "execution_count": 25,
   "metadata": {},
   "outputs": [
    {
     "name": "stdout",
     "output_type": "stream",
     "text": [
      "Pontos: 224\n",
      "Vitorias: 67\n",
      "Derrotas: 23\n"
     ]
    }
   ],
   "source": [
    "tupla =(\n",
    "('Fortaleza', 48, 14, 3),\n",
    "('Botafogo', 47, 14, 5),\n",
    "('Palmeiras', 44, 14, 5),\n",
    "('Flamengo', 44, 13, 5),\n",
    "('São Paulo', 41, 12, 5))\n",
    "\n",
    "pontos = 0\n",
    "vitorias = 0\n",
    "derrotas = 0\n",
    "\n",
    "for k in tupla:\n",
    "    pontos += k[1]\n",
    "    vitorias += k[2]\n",
    "    derrotas += k[3]\n",
    "\n",
    "print(f'Pontos: {pontos}')\n",
    "print(f'Vitorias: {vitorias}')\n",
    "print(f'Derrotas: {derrotas}')\n"
   ]
  },
  {
   "cell_type": "code",
   "execution_count": 34,
   "metadata": {},
   "outputs": [
    {
     "name": "stdout",
     "output_type": "stream",
     "text": [
      "Taxa pontos vitória em %:[77.41935483870968, 77.04918032786885, 75.86206896551724, 77.19298245614034, 77.35849056603774]\n",
      "Taxa pontos derrota em %: [94.11764705882352, 90.38461538461539, 89.79591836734694, 89.79591836734694, 89.13043478260869]\n"
     ]
    }
   ],
   "source": [
    "tupla =(\n",
    "('Fortaleza', 48, 14, 3),\n",
    "('Botafogo', 47, 14, 5),\n",
    "('Palmeiras', 44, 14, 5),\n",
    "('Flamengo', 44, 13, 5),\n",
    "('São Paulo', 41, 12, 5))\n",
    "\n",
    "taxa_pontosV = [] \n",
    "taxa_pontosD = []\n",
    "\n",
    "for v in tupla:\n",
    "    taxa_pontoV = ((v[1]/(v[1] + v[2])) * 100) \n",
    "    taxa_pontosV.append(taxa_pontoV)\n",
    "\n",
    "for d in tupla:\n",
    "    taxa_pontoD = ((d[1]/(d[1] + d[3])) * 100) \n",
    "    taxa_pontosD.append(taxa_pontoD)\n",
    "\n",
    "print(f'Taxa pontos vitória em %:{taxa_pontosV}') #Taxa pontos vitoria\n",
    "print(f'Taxa pontos derrota em %: {taxa_pontosD}') #Taxa pontos derrota"
   ]
  },
  {
   "cell_type": "code",
   "execution_count": 11,
   "metadata": {},
   "outputs": [
    {
     "ename": "TypeError",
     "evalue": "'builtin_function_or_method' object is not iterable",
     "output_type": "error",
     "traceback": [
      "\u001b[1;31m---------------------------------------------------------------------------\u001b[0m",
      "\u001b[1;31mTypeError\u001b[0m                                 Traceback (most recent call last)",
      "Cell \u001b[1;32mIn[11], line 19\u001b[0m\n\u001b[0;32m     16\u001b[0m     taxa_pontoD \u001b[38;5;241m=\u001b[39m ((d[\u001b[38;5;241m1\u001b[39m]\u001b[38;5;241m/\u001b[39m(d[\u001b[38;5;241m1\u001b[39m] \u001b[38;5;241m+\u001b[39m d[\u001b[38;5;241m3\u001b[39m])) \u001b[38;5;241m*\u001b[39m \u001b[38;5;241m100\u001b[39m) \n\u001b[0;32m     17\u001b[0m     taxa_pontosD\u001b[38;5;241m.\u001b[39mappend(taxa_pontoD)\n\u001b[1;32m---> 19\u001b[0m maiorTaxaV \u001b[38;5;241m=\u001b[39m \u001b[38;5;28;43mmax\u001b[39;49m\u001b[43m(\u001b[49m\u001b[43mtaxa_pontosV\u001b[49m\u001b[38;5;241;43m.\u001b[39;49m\u001b[43mindex\u001b[49m\u001b[43m)\u001b[49m\n\u001b[0;32m     20\u001b[0m menorTaxaV \u001b[38;5;241m=\u001b[39m \u001b[38;5;28mmin\u001b[39m(taxa_pontosV\u001b[38;5;241m.\u001b[39mindex)\n\u001b[0;32m     22\u001b[0m \u001b[38;5;28mprint\u001b[39m(\u001b[38;5;124mf\u001b[39m\u001b[38;5;124m'\u001b[39m\u001b[38;5;124mA maior taxa em relação a vitória é: \u001b[39m\u001b[38;5;132;01m{\u001b[39;00mmaiorTaxaV\u001b[38;5;132;01m}\u001b[39;00m\u001b[38;5;124m'\u001b[39m)\n",
      "\u001b[1;31mTypeError\u001b[0m: 'builtin_function_or_method' object is not iterable"
     ]
    }
   ],
   "source": [
    "tupla =(\n",
    "('Fortaleza', 48, 14, 3),\n",
    "('Botafogo', 47, 14, 5),\n",
    "('Palmeiras', 44, 14, 5),\n",
    "('Flamengo', 44, 13, 5),\n",
    "('São Paulo', 41, 12, 5))\n",
    "\n",
    "taxa_pontosV = [] \n",
    "taxa_pontosD = []\n",
    "\n",
    "for v in tupla:\n",
    "    taxa_pontoV = ((v[1]/(v[1] + v[2])) * 100) \n",
    "    taxa_pontosV.append(taxa_pontoV)\n",
    "\n",
    "for d in tupla:\n",
    "    taxa_pontoD = ((d[1]/(d[1] + d[3])) * 100) \n",
    "    taxa_pontosD.append(taxa_pontoD)\n",
    "\n",
    "maiorTaxaV = max(taxa_pontosV.index)\n",
    "menorTaxaV = min(taxa_pontosV.index)\n",
    "\n",
    "print(f'A maior taxa em relação a vitória é: {maiorTaxaV}')\n",
    "print(f'A menor taxa em relação a vitória é: {menorTaxaV}')\n",
    "\n",
    "maiorTaxaD = max(taxa_pontosD)\n",
    "menorTaxaD = min(taxa_pontosD)\n",
    "print(f'A maior taxa em relação a derrota é: {maiorTaxaD}')\n",
    "print(f'A menor taxa em relação a derrota é: {menorTaxaD}')\n",
    "\n"
   ]
  },
  {
   "cell_type": "code",
   "execution_count": 15,
   "metadata": {},
   "outputs": [
    {
     "name": "stdout",
     "output_type": "stream",
     "text": [
      "A maior taxa em relação a vitória é: 77.41935483870968% (Fortaleza)\n",
      "A menor taxa em relação a vitória é: 75.86206896551724% (Palmeiras)\n",
      "A maior taxa em relação a derrota é: 94.11764705882352% (Fortaleza)\n",
      "A menor taxa em relação a derrota é: 89.13043478260869% (São Paulo)\n"
     ]
    }
   ],
   "source": [
    "tupla = (\n",
    "    ('Fortaleza', 48, 14, 3),\n",
    "    ('Botafogo', 47, 14, 5),\n",
    "    ('Palmeiras', 44, 14, 5),\n",
    "    ('Flamengo', 44, 13, 5),\n",
    "    ('São Paulo', 41, 12, 5)\n",
    ")\n",
    "\n",
    "\n",
    "\n",
    "taxa_pontosV = [] \n",
    "taxa_pontosD = []\n",
    "\n",
    "\n",
    "\n",
    "for v in tupla:\n",
    "    taxa_pontoV = ((v[1]/(v[1] + v[2])) * 100) \n",
    "    taxa_pontosV.append(taxa_pontoV)\n",
    "\n",
    "\n",
    "\n",
    "for d in tupla:\n",
    "    taxa_pontoD = ((d[1]/(d[1] + d[3])) * 100) \n",
    "    taxa_pontosD.append(taxa_pontoD)\n",
    "\n",
    "\n",
    "\n",
    "maiorTaxaV_index = taxa_pontosV.index(max(taxa_pontosV))\n",
    "menorTaxaV_index = taxa_pontosV.index(min(taxa_pontosV))\n",
    "\n",
    "\n",
    "\n",
    "print(f'A maior taxa em relação a vitória é: {max(taxa_pontosV)}% ({tupla[maiorTaxaV_index][0]})')\n",
    "print(f'A menor taxa em relação a vitória é: {min(taxa_pontosV)}% ({tupla[menorTaxaV_index][0]})')\n",
    "\n",
    "\n",
    "\n",
    "maiorTaxaD = max(taxa_pontosD)\n",
    "menorTaxaD = min(taxa_pontosD)\n",
    "\n",
    "\n",
    "\n",
    "print(f'A maior taxa em relação a derrota é: {maiorTaxaD}% ({tupla[taxa_pontosD.index(maiorTaxaD)][0]})')\n",
    "print(f'A menor taxa em relação a derrota é: {menorTaxaD}% ({tupla[taxa_pontosD.index(menorTaxaD)][0]})')\n"
   ]
  },
  {
   "cell_type": "code",
   "execution_count": null,
   "metadata": {},
   "outputs": [],
   "source": []
  },
  {
   "cell_type": "code",
   "execution_count": null,
   "metadata": {},
   "outputs": [],
   "source": [
    "tupla2 = (\n",
    "(\"Fluminense\", 24, 6, 6),\n",
    "(\"Vitória\", 22, 6, 4),\n",
    "(\"Corinthians\", 22, 4, 10),\n",
    "(\"Cuiabá\", 18, 4, 6),\n",
    "(\"Atlético-GO\", 18, 4, 6))\n",
    "\n",
    "\n",
    "tuplas_concatenadas = tupla + tupla2\n",
    "print(tuplas_concatenadas)"
   ]
  },
  {
   "cell_type": "code",
   "execution_count": null,
   "metadata": {},
   "outputs": [],
   "source": [
    "tupla_2 = list(tupla2)\n",
    "\n",
    "for i, equipe in enumerate(tupla_2):\n",
    "    if equipe[0] == \"Fluminense\":\n",
    "        tupla_2[i] = (\"Fluminense\", 28, 7, 7)\n",
    "        break\n",
    "\n",
    "print(tupla_2)"
   ]
  },
  {
   "cell_type": "code",
   "execution_count": 23,
   "metadata": {},
   "outputs": [
    {
     "ename": "TypeError",
     "evalue": "'tuple' object does not support item assignment",
     "output_type": "error",
     "traceback": [
      "\u001b[1;31m---------------------------------------------------------------------------\u001b[0m",
      "\u001b[1;31mTypeError\u001b[0m                                 Traceback (most recent call last)",
      "Cell \u001b[1;32mIn[23], line 4\u001b[0m\n\u001b[0;32m      2\u001b[0m tupla \u001b[38;5;241m=\u001b[39m (\u001b[38;5;241m1\u001b[39m, \u001b[38;5;241m2\u001b[39m, \u001b[38;5;241m3\u001b[39m)\n\u001b[0;32m      3\u001b[0m lista[\u001b[38;5;241m0\u001b[39m] \u001b[38;5;241m=\u001b[39m \u001b[38;5;241m0\u001b[39m\n\u001b[1;32m----> 4\u001b[0m \u001b[43mtupla\u001b[49m\u001b[43m[\u001b[49m\u001b[38;5;241;43m0\u001b[39;49m\u001b[43m]\u001b[49m \u001b[38;5;241m=\u001b[39m \u001b[38;5;241m0\u001b[39m\n\u001b[0;32m      5\u001b[0m \u001b[38;5;28mprint\u001b[39m(lista)\n\u001b[0;32m      6\u001b[0m \u001b[38;5;28mprint\u001b[39m(tupla)\n",
      "\u001b[1;31mTypeError\u001b[0m: 'tuple' object does not support item assignment"
     ]
    }
   ],
   "source": [
    "lista = [1, 2, 3]\n",
    "tupla = (1, 2, 3)\n",
    "lista[0] = 0\n",
    "tupla[0] = 0\n",
    "print(lista)\n",
    "print(tupla)"
   ]
  }
 ],
 "metadata": {
  "kernelspec": {
   "display_name": "Python 3",
   "language": "python",
   "name": "python3"
  },
  "language_info": {
   "codemirror_mode": {
    "name": "ipython",
    "version": 3
   },
   "file_extension": ".py",
   "mimetype": "text/x-python",
   "name": "python",
   "nbconvert_exporter": "python",
   "pygments_lexer": "ipython3",
   "version": "3.12.3"
  }
 },
 "nbformat": 4,
 "nbformat_minor": 2
}
