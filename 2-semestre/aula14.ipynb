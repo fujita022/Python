{
 "cells": [
  {
   "cell_type": "code",
   "execution_count": 23,
   "metadata": {},
   "outputs": [
    {
     "name": "stdout",
     "output_type": "stream",
     "text": [
      "Likes total:57598\n",
      "Deslikes total: 130\n",
      "A média de likes é: 14399.5\n",
      "A média de deslikes é: 32.5\n",
      "55000\n",
      "550\n",
      "A taxa é de 99.88195768637065%\n"
     ]
    }
   ],
   "source": [
    "dados = (('youtube', 550, 10),\n",
    "('facebook', 822,50),\n",
    "('linkedin', 1226,5),\n",
    "('instagram', 55000,65))\n",
    "\n",
    "likes = 0\n",
    "deslikes = 0\n",
    "\n",
    "for k in dados:\n",
    "    likes += k[1]\n",
    "    deslikes += k[2]\n",
    "\n",
    "print(f'Likes total:{likes}')\n",
    "print(f'Deslikes total: {deslikes}')\n",
    "\n",
    "media_likes = (likes /len(dados))\n",
    "medias_deslikes = (deslikes /len(dados))\n",
    "\n",
    "print(f'A média de likes é: {media_likes}')\n",
    "print(f'A média de deslikes é: {medias_deslikes}')\n",
    "\n",
    "likes = []\n",
    "\n",
    "for j in dados:\n",
    "    likes.append(j[1])\n",
    "\n",
    "maior_likes = print(max(likes))\n",
    "menos_likes = print(min(likes))\n",
    "\n",
    "taxa_like = []\n",
    "\n",
    "for t in dados:\n",
    "    taxa_like = ((t[1]/(t[1] + t[2])) * 100) \n",
    "print(f'A taxa é de {taxa_like}%')\n",
    "\n",
    "# menorTaxa = min(taxa_like)\n",
    "# maiorTaxa = max(taxa_like)\n",
    "\n",
    "\n",
    "\n"
   ]
  }
 ],
 "metadata": {
  "kernelspec": {
   "display_name": "Python 3",
   "language": "python",
   "name": "python3"
  },
  "language_info": {
   "codemirror_mode": {
    "name": "ipython",
    "version": 3
   },
   "file_extension": ".py",
   "mimetype": "text/x-python",
   "name": "python",
   "nbconvert_exporter": "python",
   "pygments_lexer": "ipython3",
   "version": "3.12.3"
  }
 },
 "nbformat": 4,
 "nbformat_minor": 2
}
