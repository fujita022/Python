{
 "cells": [
  {
   "cell_type": "code",
   "execution_count": 5,
   "metadata": {},
   "outputs": [
    {
     "name": "stdout",
     "output_type": "stream",
     "text": [
      "(1, 2, 3, 4)\n",
      "1\n"
     ]
    }
   ],
   "source": [
    "tupla = (1,2,3,4)\n",
    "print(tuple)\n",
    "\n",
    "print(tupla[0])"
   ]
  },
  {
   "cell_type": "code",
   "execution_count": null,
   "metadata": {},
   "outputs": [],
   "source": [
    "tuple_tuple = (1,2,3), (1,2)\n",
    "\n",
    "print(tuple_tuple[0])\n",
    "print(tuple_tuple[0][1])"
   ]
  },
  {
   "cell_type": "code",
   "execution_count": null,
   "metadata": {},
   "outputs": [],
   "source": [
    "my_tuple = tuple('string')\n",
    "print(my_tuple)"
   ]
  },
  {
   "cell_type": "code",
   "execution_count": 2,
   "metadata": {},
   "outputs": [
    {
     "name": "stdout",
     "output_type": "stream",
     "text": [
      "('foo', [1, 2, 3], True)\n",
      "['foo', [1, 2, 3], True]\n"
     ]
    }
   ],
   "source": [
    "tupla = tuple(['foo', [1,2,3], True])\n",
    "print(tupla)\n",
    "\n",
    "lista = list(tupla)\n",
    "print(lista)"
   ]
  },
  {
   "cell_type": "code",
   "execution_count": 2,
   "metadata": {},
   "outputs": [
    {
     "name": "stdout",
     "output_type": "stream",
     "text": [
      "('maçã', 'banana', 'laranja', 'uva')\n"
     ]
    }
   ],
   "source": [
    "tupla = ('maçã','banana','laranja','uva')\n",
    "print(tupla)"
   ]
  },
  {
   "cell_type": "code",
   "execution_count": 3,
   "metadata": {},
   "outputs": [
    {
     "name": "stdout",
     "output_type": "stream",
     "text": [
      "banana\n"
     ]
    }
   ],
   "source": [
    "tupla = ('maçã','banana','laranja','uva')\n",
    "print(tupla[1])"
   ]
  },
  {
   "cell_type": "code",
   "execution_count": 5,
   "metadata": {},
   "outputs": [
    {
     "name": "stdout",
     "output_type": "stream",
     "text": [
      "('maçã', 'banana', 'manga', 'uva')\n"
     ]
    }
   ],
   "source": [
    "tupla = ('maçã','banana','laranja','uva')\n",
    "tupla = list(tupla)\n",
    "tupla[2] = 'manga'\n",
    "\n",
    "tupla_mudado = tuple(tupla)\n",
    "\n",
    "print(tupla_mudado)"
   ]
  },
  {
   "cell_type": "code",
   "execution_count": 7,
   "metadata": {},
   "outputs": [
    {
     "name": "stdout",
     "output_type": "stream",
     "text": [
      "('maçã', 'banana', 'manga', 'uva', 'abacaxi', 'limão')\n"
     ]
    }
   ],
   "source": [
    "tupla2 = ('abacaxi','limão')\n",
    "\n",
    "tupla_junto = tupla_mudado +tupla2\n",
    "print(tupla_junto)"
   ]
  },
  {
   "cell_type": "code",
   "execution_count": 13,
   "metadata": {},
   "outputs": [
    {
     "name": "stdout",
     "output_type": "stream",
     "text": [
      "A fruta uva está disponível.\n"
     ]
    }
   ],
   "source": [
    "if(input() in tupla_junto):\n",
    "    print('A fruta uva está disponível.')\n",
    "else:\n",
    "    ('Sem uva')"
   ]
  }
 ],
 "metadata": {
  "kernelspec": {
   "display_name": "Python 3",
   "language": "python",
   "name": "python3"
  },
  "language_info": {
   "codemirror_mode": {
    "name": "ipython",
    "version": 3
   },
   "file_extension": ".py",
   "mimetype": "text/x-python",
   "name": "python",
   "nbconvert_exporter": "python",
   "pygments_lexer": "ipython3",
   "version": "3.12.3"
  }
 },
 "nbformat": 4,
 "nbformat_minor": 2
}
