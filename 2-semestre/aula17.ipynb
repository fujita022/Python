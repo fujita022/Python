{
 "cells": [
  {
   "cell_type": "code",
   "execution_count": 8,
   "metadata": {},
   "outputs": [
    {
     "name": "stdout",
     "output_type": "stream",
     "text": [
      "['f']\n",
      "['f', 'f']\n",
      "['f', 'f', 'g']\n",
      "['f', 'f', 'g', 'f']\n",
      "['f', 'f', 'g', 'f', 'g']\n",
      "['f', 'f', 'g', 'f', 'g']\n"
     ]
    }
   ],
   "source": [
    "def list_carros():\n",
    "    lista_carros = []\n",
    "\n",
    "    for carro in range(5):\n",
    "        carros = input(\"Digite a marca de um carro:\")\n",
    "        lista_carros.append(carros)\n",
    "        print(lista_carros)\n",
    "        carros =+ 1\n",
    "    return lista_carros\n",
    "print(list_carros())"
   ]
  },
  {
   "cell_type": "code",
   "execution_count": null,
   "metadata": {},
   "outputs": [],
   "source": [
    "#Função dentro de função\n",
    "\n",
    "#Exercicios\n",
    "\n",
    "#1 Crie uma estrutura com funcao a qual solicite 5 números para um usuário\n",
    "\n",
    "#Após isso, crie uma nova função para calcular a soma dos valores inseridos na lista.\n",
    "#Em seguida crie uma função para retornar a média dos valores da lista\n",
    "\n",
    "def numeros_function():\n",
    "    req_numeros = []\n",
    "\n",
    "    for numero in range(5):\n",
    "        numero = input(\"Digite 5 números\")\n",
    "        req_numeros.append(numero)\n",
    "        numero =+1\n",
    "    return req_numeros\n",
    "print numeros_function"
   ]
  }
 ],
 "metadata": {
  "kernelspec": {
   "display_name": "Python 3",
   "language": "python",
   "name": "python3"
  },
  "language_info": {
   "codemirror_mode": {
    "name": "ipython",
    "version": 3
   },
   "file_extension": ".py",
   "mimetype": "text/x-python",
   "name": "python",
   "nbconvert_exporter": "python",
   "pygments_lexer": "ipython3",
   "version": "3.12.3"
  }
 },
 "nbformat": 4,
 "nbformat_minor": 2
}
