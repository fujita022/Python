{
 "cells": [
  {
   "cell_type": "code",
   "execution_count": 6,
   "metadata": {},
   "outputs": [],
   "source": [
    "def list_carros():\n",
    "    lista_carros = []\n",
    "\n",
    "    for carro in range(5):\n",
    "        carros = input(\"Digite a marca de um carro:\")\n",
    "        lista_carros.append(carros)\n",
    "        print(lista_carros)\n",
    "        carros =+ 1\n",
    "    print(list_carros())"
   ]
  }
 ],
 "metadata": {
  "kernelspec": {
   "display_name": "Python 3",
   "language": "python",
   "name": "python3"
  },
  "language_info": {
   "codemirror_mode": {
    "name": "ipython",
    "version": 3
   },
   "file_extension": ".py",
   "mimetype": "text/x-python",
   "name": "python",
   "nbconvert_exporter": "python",
   "pygments_lexer": "ipython3",
   "version": "3.12.3"
  }
 },
 "nbformat": 4,
 "nbformat_minor": 2
}
