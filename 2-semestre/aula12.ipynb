{
 "cells": [
  {
   "cell_type": "code",
   "execution_count": 21,
   "metadata": {},
   "outputs": [
    {
     "name": "stdout",
     "output_type": "stream",
     "text": [
      "Digite as três notas respectivamente\n",
      "Aluno 1: [2.0]\n",
      "\n",
      "Aluno 2: [3.0]\n",
      "\n",
      "Aluno 3: [4.0]\n",
      "\n",
      "Aluno 1: [2.0, 2.0]\n",
      "\n",
      "Aluno 2: [3.0, 3.0]\n",
      "\n",
      "Aluno 3: [4.0, 4.0]\n",
      "\n",
      "Aluno 1: [2.0, 2.0, 2.0]\n",
      "\n",
      "Aluno 2: [3.0, 3.0, 3.0]\n",
      "\n",
      "Aluno 3: [4.0, 4.0, 4.0]\n",
      "\n",
      "A média global é: 2.3333333333333335\n"
     ]
    }
   ],
   "source": [
    "alunos1 = []\n",
    "alunos2 = []\n",
    "alunos3 = []\n",
    "print('Digite as três notas respectivamente')\n",
    "for i in range(3):\n",
    "    alunos1.append(float(input('Digite sua nota')))\n",
    "    print(f'Aluno 1: {alunos1}\\n')\n",
    "    alunos2.append(float(input('Digite sua nota')))\n",
    "    print(f'Aluno 2: {alunos2}\\n')\n",
    "    alunos3.append(float(input('Digite sua nota')))\n",
    "    print(f'Aluno 3: {alunos3}\\n')\n",
    "\n",
    "soma_total_1 = 0\n",
    "for nota1 in alunos1:\n",
    "    soma_total_1 += nota1\n",
    "media1 = soma_total_1 / len(alunos1)\n",
    "\n",
    "soma_total_2 = 0\n",
    "for nota2 in alunos2:\n",
    "    soma_total_2 += nota2\n",
    "media2 = soma_total_2 / len(alunos2)\n",
    "\n",
    "soma_total_3 = 0\n",
    "for nota3 in alunos3:\n",
    "    soma_total_3 += nota1\n",
    "media3 = soma_total_3 / len(alunos3)\n",
    "\n",
    "\n",
    "media_global = (media1 + media2 + media3) / 3\n",
    "print(f'A média global é: {media_global}')"
   ]
  },
  {
   "cell_type": "code",
   "execution_count": null,
   "metadata": {},
   "outputs": [],
   "source": []
  }
 ],
 "metadata": {
  "kernelspec": {
   "display_name": "Python 3",
   "language": "python",
   "name": "python3"
  },
  "language_info": {
   "codemirror_mode": {
    "name": "ipython",
    "version": 3
   },
   "file_extension": ".py",
   "mimetype": "text/x-python",
   "name": "python",
   "nbconvert_exporter": "python",
   "pygments_lexer": "ipython3",
   "version": "3.12.3"
  }
 },
 "nbformat": 4,
 "nbformat_minor": 2
}
