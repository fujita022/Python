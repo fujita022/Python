{
 "cells": [
  {
   "cell_type": "code",
   "execution_count": 5,
   "metadata": {},
   "outputs": [
    {
     "ename": "SyntaxError",
     "evalue": "expected ':' (3386212636.py, line 5)",
     "output_type": "error",
     "traceback": [
      "\u001b[1;36m  Cell \u001b[1;32mIn[5], line 5\u001b[1;36m\u001b[0m\n\u001b[1;33m    def media()\u001b[0m\n\u001b[1;37m               ^\u001b[0m\n\u001b[1;31mSyntaxError\u001b[0m\u001b[1;31m:\u001b[0m expected ':'\n"
     ]
    }
   ],
   "source": [
    "#1a) \n",
    "temp_abaixo = []\n",
    "temp_acima = []\n",
    "\n",
    "def media():\n",
    "    temp_abaixolist = temp_abaixo.append(input('Digite '))\n",
    "    print(temp_acima)\n"
   ]
  },
  {
   "cell_type": "code",
   "execution_count": null,
   "metadata": {},
   "outputs": [],
   "source": [
    "#2\n",
    "emails = [\n",
    "    'joao@gmail.com',\n",
    "    'maria@yahoo.com',\n",
    "    'carlos@gmail.com',\n",
    "    'ana@hotmail.com',\n",
    "    'paulo@hotmail.com',\n",
    "    'claudia@hotmail.com',\n",
    "    'roberto@gmail.com'\n",
    "]\n",
    "\n",
    "def "
   ]
  },
  {
   "cell_type": "code",
   "execution_count": 6,
   "metadata": {},
   "outputs": [
    {
     "name": "stdout",
     "output_type": "stream",
     "text": [
      "[10, 45, 10, 0, 5, 32, 0, 105, 18, 34]\n"
     ]
    }
   ],
   "source": [
    "#3\n",
    "cidades = [\n",
    "    'SP',\n",
    "    'RJ',\n",
    "    'RN',\n",
    "    'SE',\n",
    "    'TO',\n",
    "    'CE',\n",
    "    'DF',\n",
    "    'MA',\n",
    "    'PI',\n",
    "    'SC'\n",
    "]\n",
    "\n",
    "chuvas = [\n",
    "    10,\n",
    "    45,\n",
    "    10,\n",
    "    0,\n",
    "    5,\n",
    "    32,\n",
    "    0,\n",
    "    105,\n",
    "    18,\n",
    "    34\n",
    "]\n",
    "\n",
    "print(chuvas)"
   ]
  },
  {
   "cell_type": "code",
   "execution_count": null,
   "metadata": {},
   "outputs": [],
   "source": [
    "#4 \n",
    "#a)\n"
   ]
  },
  {
   "cell_type": "code",
   "execution_count": 34,
   "metadata": {},
   "outputs": [
    {
     "ename": "TypeError",
     "evalue": "'NoneType' object is not iterable",
     "output_type": "error",
     "traceback": [
      "\u001b[1;31m---------------------------------------------------------------------------\u001b[0m",
      "\u001b[1;31mTypeError\u001b[0m                                 Traceback (most recent call last)",
      "Cell \u001b[1;32mIn[34], line 19\u001b[0m\n\u001b[0;32m     16\u001b[0m \u001b[38;5;28;01mfor\u001b[39;00m i \u001b[38;5;129;01min\u001b[39;00m \u001b[38;5;28mrange\u001b[39m(\u001b[38;5;241m5\u001b[39m):\n\u001b[0;32m     17\u001b[0m     city3 \u001b[38;5;241m=\u001b[39m temp_cidade3\u001b[38;5;241m.\u001b[39mappend(\u001b[38;5;28minput\u001b[39m(\u001b[38;5;124m'\u001b[39m\u001b[38;5;124mDigite cinco temperaturas da cidade 3:\u001b[39m\u001b[38;5;124m'\u001b[39m))\n\u001b[1;32m---> 19\u001b[0m city1 \u001b[38;5;241m=\u001b[39m \u001b[38;5;28mtuple\u001b[39m(cidade1)\n\u001b[0;32m     20\u001b[0m city2 \u001b[38;5;241m=\u001b[39m \u001b[38;5;28mtuple\u001b[39m(cidade2)\n\u001b[0;32m     21\u001b[0m city3 \u001b[38;5;241m=\u001b[39m \u001b[38;5;28mtuple\u001b[39m(cidade3)\n",
      "\u001b[1;31mTypeError\u001b[0m: 'NoneType' object is not iterable"
     ]
    }
   ],
   "source": [
    "#5\n",
    "\n",
    "temp_cidade1 = []\n",
    "temp_cidade2 = []\n",
    "temp_cidade3 = []\n",
    "\n",
    "\n",
    "\n",
    "\n",
    "for k in range(5):\n",
    "    city1 = temp_cidade1.append(input('Digite cinco temperaturas da cidade 1:'))\n",
    "\n",
    "for j in range(5):\n",
    "    city2 = temp_cidade2.append(input('Digite cinco temperaturas da cidade 2:'))\n",
    "\n",
    "for i in range(5):\n",
    "    city3 = temp_cidade3.append(input('Digite cinco temperaturas da cidade 3:'))\n",
    "\n",
    "city1 = tuple(cidade1)\n",
    "city2 = tuple(cidade2)\n",
    "city3 = tuple(cidade3)\n",
    "\n",
    "def media():\n",
    "    media_temp = cidade1 + cidade2 + cidade3\n",
    "print(media_temp)"
   ]
  },
  {
   "cell_type": "markdown",
   "metadata": {},
   "source": [
    "A diferença de def para lambda é que o def ele é utilizado para um meio de reposta que pode ser facilmente retornado sem causar erro enquanto "
   ]
  }
 ],
 "metadata": {
  "kernelspec": {
   "display_name": "Python 3",
   "language": "python",
   "name": "python3"
  },
  "language_info": {
   "codemirror_mode": {
    "name": "ipython",
    "version": 3
   },
   "file_extension": ".py",
   "mimetype": "text/x-python",
   "name": "python",
   "nbconvert_exporter": "python",
   "pygments_lexer": "ipython3",
   "version": "3.11.7"
  }
 },
 "nbformat": 4,
 "nbformat_minor": 2
}
