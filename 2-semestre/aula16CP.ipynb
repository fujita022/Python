{
 "cells": [
  {
   "cell_type": "code",
   "execution_count": 5,
   "metadata": {},
   "outputs": [
    {
     "ename": "SyntaxError",
     "evalue": "expected ':' (3386212636.py, line 5)",
     "output_type": "error",
     "traceback": [
      "\u001b[1;36m  Cell \u001b[1;32mIn[5], line 5\u001b[1;36m\u001b[0m\n\u001b[1;33m    def media()\u001b[0m\n\u001b[1;37m               ^\u001b[0m\n\u001b[1;31mSyntaxError\u001b[0m\u001b[1;31m:\u001b[0m expected ':'\n"
     ]
    }
   ],
   "source": [
    "#1a) \n",
    "temp_abaixo = []\n",
    "temp_acima = []\n",
    "\n",
    "def media()\n",
    "    print(temp_abaixo)\n",
    "    print(temp_acima)\n"
   ]
  },
  {
   "cell_type": "code",
   "execution_count": null,
   "metadata": {},
   "outputs": [],
   "source": [
    "#2\n",
    "emails = [\n",
    "    'joao@gmai.com',\n",
    "    'maria@yahoo.com',\n",
    "    'carlos@gmail.com',\n",
    "    'ana@hotmail.com',\n",
    "    'paulo@hotmail.com',\n",
    "    'claudia@hotmail.com',\n",
    "    'roberto@gmail.com'\n",
    "]\n",
    "\n",
    "def "
   ]
  },
  {
   "cell_type": "code",
   "execution_count": 6,
   "metadata": {},
   "outputs": [
    {
     "name": "stdout",
     "output_type": "stream",
     "text": [
      "[10, 45, 10, 0, 5, 32, 0, 105, 18, 34]\n"
     ]
    }
   ],
   "source": [
    "#3\n",
    "cidades = [\n",
    "    'SP',\n",
    "    'RJ',\n",
    "    'RN',\n",
    "    'SE',\n",
    "    'TO',\n",
    "    'CE',\n",
    "    'DF',\n",
    "    'MA',\n",
    "    'PI',\n",
    "    'SC'\n",
    "]\n",
    "\n",
    "chuvas = [\n",
    "    10,\n",
    "    45,\n",
    "    10,\n",
    "    0,\n",
    "    5,\n",
    "    32,\n",
    "    0,\n",
    "    105,\n",
    "    18,\n",
    "    34\n",
    "]\n",
    "\n",
    "print(chuvas)"
   ]
  },
  {
   "cell_type": "code",
   "execution_count": null,
   "metadata": {},
   "outputs": [],
   "source": [
    "#4 \n",
    "#a)\n"
   ]
  },
  {
   "cell_type": "code",
   "execution_count": null,
   "metadata": {},
   "outputs": [],
   "source": []
  }
 ],
 "metadata": {
  "kernelspec": {
   "display_name": "Python 3",
   "language": "python",
   "name": "python3"
  },
  "language_info": {
   "codemirror_mode": {
    "name": "ipython",
    "version": 3
   },
   "file_extension": ".py",
   "mimetype": "text/x-python",
   "name": "python",
   "nbconvert_exporter": "python",
   "pygments_lexer": "ipython3",
   "version": "3.11.7"
  }
 },
 "nbformat": 4,
 "nbformat_minor": 2
}
