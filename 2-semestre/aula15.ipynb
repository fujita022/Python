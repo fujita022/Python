{
 "cells": [
  {
   "cell_type": "code",
   "execution_count": 2,
   "metadata": {},
   "outputs": [
    {
     "name": "stdout",
     "output_type": "stream",
     "text": [
      "6\n",
      "3.0\n"
     ]
    }
   ],
   "source": [
    "#Função chama função\n",
    "\n",
    "def soma(a, b):\n",
    "    \"Função soma\"\n",
    "    soma = a + b\n",
    "    return soma\n",
    "\n",
    "def media(a, b):\n",
    "    \"Função media\"\n",
    "    media = soma(a, b)/2\n",
    "    return media\n",
    "\n",
    "print(soma(2, 4))\n",
    "print(media(2, 4))"
   ]
  },
  {
   "cell_type": "code",
   "execution_count": 4,
   "metadata": {},
   "outputs": [
    {
     "data": {
      "text/plain": [
       "1375"
      ]
     },
     "execution_count": 4,
     "metadata": {},
     "output_type": "execute_result"
    }
   ],
   "source": [
    "# Criar uma função que retorne a soma dos quadrados \n",
    "\n",
    "def eleva_quadrado(x):\n",
    "    \"Função eleva ao quadrado\"\n",
    "    y = x**2\n",
    "\n",
    "    return y\n",
    "\n",
    "def soma_quadrado(a, b, c, d, e):\n",
    "    \"Função que soma os números\"\n",
    "\n",
    "    v = eleva_quadrado(a)\n",
    "    w = eleva_quadrado(b)\n",
    "    x = eleva_quadrado(c)\n",
    "    y = eleva_quadrado(d)\n",
    "    z = eleva_quadrado(e)\n",
    "\n",
    "    soma = v + w + x + y + z\n",
    "\n",
    "    return soma\n",
    "\n",
    "soma_quadrado(5, 10, 15, 20, 25)"
   ]
  },
  {
   "cell_type": "code",
   "execution_count": 5,
   "metadata": {},
   "outputs": [
    {
     "name": "stdout",
     "output_type": "stream",
     "text": [
      "A area do retangulo é:  200.0\n"
     ]
    }
   ],
   "source": [
    "# Função para calcular a area de um retangulo\n",
    "\n",
    "def area(comprimento, largura):\n",
    "\n",
    "    area_ret = comprimento * largura\n",
    "\n",
    "    return area_ret\n",
    "\n",
    "def mostra_area():\n",
    "    \"Função para mostra o resultado\"\n",
    "    print(\"A area do retangulo é: \", ar)\n",
    "\n",
    "    \n",
    "    \n",
    "\n",
    "l = float(input(\"Digite a largura: \"))\n",
    "c = float(input(\"Digite o comprimento: \"))\n",
    "\n",
    "ar = area(l, c)\n",
    "mostra_area()"
   ]
  },
  {
   "cell_type": "code",
   "execution_count": 15,
   "metadata": {},
   "outputs": [
    {
     "ename": "TypeError",
     "evalue": "'>' not supported between instances of 'tuple' and 'int'",
     "output_type": "error",
     "traceback": [
      "\u001b[1;31m---------------------------------------------------------------------------\u001b[0m",
      "\u001b[1;31mTypeError\u001b[0m                                 Traceback (most recent call last)",
      "Cell \u001b[1;32mIn[15], line 22\u001b[0m\n\u001b[0;32m     19\u001b[0m         \u001b[38;5;28mprint\u001b[39m(\u001b[38;5;124m\"\u001b[39m\u001b[38;5;124mArea pequena \u001b[39m\u001b[38;5;124m\"\u001b[39m)\n\u001b[0;32m     21\u001b[0m arc \u001b[38;5;241m=\u001b[39m area_circulo(\u001b[38;5;28mfloat\u001b[39m(\u001b[38;5;28minput\u001b[39m(\u001b[38;5;124m\"\u001b[39m\u001b[38;5;124mDigite o raio do circulo: \u001b[39m\u001b[38;5;124m\"\u001b[39m)))\n\u001b[1;32m---> 22\u001b[0m \u001b[43mretornar_area\u001b[49m\u001b[43m(\u001b[49m\u001b[43m)\u001b[49m\n",
      "Cell \u001b[1;32mIn[15], line 11\u001b[0m, in \u001b[0;36mretornar_area\u001b[1;34m()\u001b[0m\n\u001b[0;32m      9\u001b[0m \u001b[38;5;28;01mdef\u001b[39;00m \u001b[38;5;21mretornar_area\u001b[39m():\n\u001b[0;32m     10\u001b[0m     \u001b[38;5;66;03m# Função para retornar a area \u001b[39;00m\n\u001b[1;32m---> 11\u001b[0m     \u001b[38;5;28;01mif\u001b[39;00m \u001b[43marc\u001b[49m\u001b[43m \u001b[49m\u001b[38;5;241;43m>\u001b[39;49m\u001b[43m \u001b[49m\u001b[38;5;241;43m100\u001b[39;49m:\n\u001b[0;32m     12\u001b[0m         \u001b[38;5;28mprint\u001b[39m(\u001b[38;5;124m\"\u001b[39m\u001b[38;5;124mArea grande \u001b[39m\u001b[38;5;124m\"\u001b[39m)\n\u001b[0;32m     14\u001b[0m     \u001b[38;5;28;01melif\u001b[39;00m  arc \u001b[38;5;241m>\u001b[39m \u001b[38;5;241m50\u001b[39m :\n",
      "\u001b[1;31mTypeError\u001b[0m: '>' not supported between instances of 'tuple' and 'int'"
     ]
    }
   ],
   "source": [
    "# Area do circulo\n",
    "\n",
    "\n",
    "def area_circulo(raio):\n",
    "    area = 3,14* (raio**2)\n",
    "    \n",
    "    return area\n",
    "\n",
    "def retornar_area():\n",
    "    # Função para retornar a area \n",
    "    if arc > 100:\n",
    "        print(\"Area grande \")\n",
    "\n",
    "    elif  arc > 50 :\n",
    "        print(\"Area média \")\n",
    "\n",
    "    # Função para retornar a area caso seja pequena\n",
    "    else:\n",
    "        print(\"Area pequena \")\n",
    "\n",
    "arc = area_circulo(float(input(\"Digite o raio do circulo: \")))\n",
    "retornar_area()\n",
    "\n"
   ]
  }
 ],
 "metadata": {
  "kernelspec": {
   "display_name": "Python 3",
   "language": "python",
   "name": "python3"
  },
  "language_info": {
   "codemirror_mode": {
    "name": "ipython",
    "version": 3
   },
   "file_extension": ".py",
   "mimetype": "text/x-python",
   "name": "python",
   "nbconvert_exporter": "python",
   "pygments_lexer": "ipython3",
   "version": "3.12.3"
  }
 },
 "nbformat": 4,
 "nbformat_minor": 2
}
