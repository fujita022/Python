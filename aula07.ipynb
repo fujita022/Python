{
 "cells": [
  {
   "cell_type": "code",
   "execution_count": 17,
   "metadata": {},
   "outputs": [
    {
     "name": "stdout",
     "output_type": "stream",
     "text": [
      "1\n",
      "2\n",
      "3\n",
      "4\n",
      "5\n",
      "6\n",
      "7\n",
      "8\n",
      "9\n"
     ]
    }
   ],
   "source": [
    "for i in range(1,10):\n",
    "    print(i)"
   ]
  },
  {
   "cell_type": "code",
   "execution_count": 18,
   "metadata": {},
   "outputs": [
    {
     "name": "stdout",
     "output_type": "stream",
     "text": [
      "A soma dos números 1 a 3 é: 1\n",
      "A soma dos números 1 a 3 é: 2\n",
      "A soma dos números 1 a 3 é: 3\n"
     ]
    }
   ],
   "source": [
    "soma = 0\n",
    "\n",
    "for i in range(1,4):\n",
    "    soma +=1\n",
    "    print('A soma dos números 1 a 3 é:',soma)\n",
    "\n"
   ]
  },
  {
   "cell_type": "code",
   "execution_count": 19,
   "metadata": {},
   "outputs": [
    {
     "name": "stdout",
     "output_type": "stream",
     "text": [
      "1\n",
      "1\n",
      "1\n"
     ]
    }
   ],
   "source": [
    "mult = 1\n",
    "for i in range(1,4):\n",
    "    mult*=1\n",
    "    print(mult)\n"
   ]
  },
  {
   "cell_type": "code",
   "execution_count": 20,
   "metadata": {},
   "outputs": [
    {
     "name": "stdout",
     "output_type": "stream",
     "text": [
      "1\n",
      "6\n",
      "11\n"
     ]
    }
   ],
   "source": [
    "for i in range (1,30,5):\n",
    "    print(i)\n",
    "    if i == 11:\n",
    "        break\n"
   ]
  },
  {
   "cell_type": "code",
   "execution_count": 21,
   "metadata": {},
   "outputs": [
    {
     "name": "stdout",
     "output_type": "stream",
     "text": [
      "a\n",
      "b\n",
      "d\n",
      "e\n"
     ]
    }
   ],
   "source": [
    "lista_car = ['a','b','c','d','e']\n",
    "\n",
    "for k in lista_car:\n",
    "    if k == 'c':\n",
    "        continue\n",
    "    print(k)"
   ]
  },
  {
   "cell_type": "code",
   "execution_count": 22,
   "metadata": {},
   "outputs": [
    {
     "name": "stdout",
     "output_type": "stream",
     "text": [
      "1\n",
      "3\n",
      "5\n",
      "7\n",
      "9\n"
     ]
    }
   ],
   "source": [
    "for k in range(1,10):\n",
    "    if k %2 == 0:\n",
    "        continue\n",
    "    print(k)"
   ]
  },
  {
   "cell_type": "code",
   "execution_count": 23,
   "metadata": {},
   "outputs": [
    {
     "name": "stdout",
     "output_type": "stream",
     "text": [
      "H\n",
      "o\n",
      "j\n",
      "e\n",
      " \n",
      "é\n",
      " \n",
      "s\n",
      "e\n",
      "x\n",
      "t\n",
      "a\n",
      "-\n",
      "f\n",
      "e\n",
      "i\n",
      "r\n",
      "a\n",
      ".\n"
     ]
    }
   ],
   "source": [
    "palavra = \"Hoje é sexta-feira.\"\n",
    "\n",
    "for k in palavra:\n",
    "    print(k)"
   ]
  },
  {
   "cell_type": "code",
   "execution_count": null,
   "metadata": {},
   "outputs": [],
   "source": []
  },
  {
   "cell_type": "code",
   "execution_count": 24,
   "metadata": {},
   "outputs": [
    {
     "name": "stdout",
     "output_type": "stream",
     "text": [
      "h\n",
      "b\n",
      "c\n"
     ]
    }
   ],
   "source": [
    "#ex 1\n",
    "\n",
    "letra = ['h','b','c','a','e']\n",
    "\n",
    "for k in letra:\n",
    "    if k == 'a':\n",
    "        break\n",
    "    print(k)\n",
    "\n"
   ]
  },
  {
   "cell_type": "code",
   "execution_count": 25,
   "metadata": {},
   "outputs": [
    {
     "name": "stdout",
     "output_type": "stream",
     "text": [
      "a\n",
      "e\n",
      "i\n",
      "u\n"
     ]
    }
   ],
   "source": [
    "vogal = ['a','e','i','o','u']\n",
    "\n",
    "for k in vogal:\n",
    "    if k == 'o':\n",
    "        continue\n",
    "    print(k)\n",
    "\n"
   ]
  },
  {
   "cell_type": "code",
   "execution_count": 26,
   "metadata": {},
   "outputs": [
    {
     "name": "stdout",
     "output_type": "stream",
     "text": [
      "Hoje\n",
      "e\n",
      "sexta\n"
     ]
    }
   ],
   "source": [
    "user_frase = input('Digite uma frase:')\n",
    "user_palavra = str(input('Digite uma palavra existente na frase: '))\n",
    "lista = ['Hoje', 'e', 'sexta']\n",
    "\n",
    "for i in lista:\n",
    "    if i == lista:\n",
    "        break\n",
    "    print(i)\n"
   ]
  },
  {
   "cell_type": "code",
   "execution_count": 27,
   "metadata": {},
   "outputs": [
    {
     "data": {
      "text/plain": [
       "['hoje', 'e', 'sexta', 'feira']"
      ]
     },
     "execution_count": 27,
     "metadata": {},
     "output_type": "execute_result"
    }
   ],
   "source": [
    "#Estrutura com append\n",
    "\n",
    "palavras = ['hoje','e','sexta']\n",
    "\n",
    "palavras.append(\"feira\")\n",
    "palavras"
   ]
  },
  {
   "cell_type": "code",
   "execution_count": 28,
   "metadata": {},
   "outputs": [
    {
     "data": {
      "text/plain": [
       "'hoje e sexta feira'"
      ]
     },
     "execution_count": 28,
     "metadata": {},
     "output_type": "execute_result"
    }
   ],
   "source": [
    "texto =' '.join(palavras)\n",
    "texto"
   ]
  },
  {
   "cell_type": "code",
   "execution_count": 29,
   "metadata": {},
   "outputs": [
    {
     "name": "stdout",
     "output_type": "stream",
     "text": [
      "['', '', '']\n"
     ]
    }
   ],
   "source": [
    "cidades = []\n",
    "\n",
    "cidade = input('Digite a primeira cidade: ')\n",
    "\n",
    "cidades.append(cidade)\n",
    "cidades.append(input('Segunda cidade'))\n",
    "cidades.append(input('Terceira cidade'))\n",
    "\n",
    "print(cidades)"
   ]
  },
  {
   "cell_type": "code",
   "execution_count": 30,
   "metadata": {},
   "outputs": [
    {
     "ename": "ValueError",
     "evalue": "could not convert string to float: ''",
     "output_type": "error",
     "traceback": [
      "\u001b[1;31m---------------------------------------------------------------------------\u001b[0m",
      "\u001b[1;31mValueError\u001b[0m                                Traceback (most recent call last)",
      "Cell \u001b[1;32mIn[30], line 2\u001b[0m\n\u001b[0;32m      1\u001b[0m \u001b[39mfor\u001b[39;00m i \u001b[39min\u001b[39;00m \u001b[39mrange\u001b[39m(\u001b[39m3\u001b[39m):\n\u001b[1;32m----> 2\u001b[0m     nota1 \u001b[39m=\u001b[39m \u001b[39mfloat\u001b[39;49m(\u001b[39minput\u001b[39;49m(\u001b[39m'\u001b[39;49m\u001b[39mDigite a nota 1:\u001b[39;49m\u001b[39m'\u001b[39;49m))\n\u001b[0;32m      3\u001b[0m     nota2 \u001b[39m=\u001b[39m \u001b[39mfloat\u001b[39m(\u001b[39minput\u001b[39m(\u001b[39m'\u001b[39m\u001b[39mDigite a nota 2:\u001b[39m\u001b[39m'\u001b[39m))\n\u001b[0;32m      5\u001b[0m media \u001b[39m=\u001b[39m (nota1 \u001b[39m+\u001b[39m nota2) \u001b[39m/\u001b[39m \u001b[39m2\u001b[39m\n",
      "\u001b[1;31mValueError\u001b[0m: could not convert string to float: ''"
     ]
    }
   ],
   "source": [
    "for i in range(3):\n",
    "    nota1 = float(input('Digite a nota 1:'))\n",
    "    nota2 = float(input('Digite a nota 2:'))\n",
    "\n",
    "media = (nota1 + nota2) / 2\n",
    "print(media)"
   ]
  },
  {
   "cell_type": "code",
   "execution_count": null,
   "metadata": {},
   "outputs": [
    {
     "name": "stdout",
     "output_type": "stream",
     "text": [
      "['e', 'r', 'e', 'e', 're', 'r', 'er', 'e', 're', 'r', 'er', 'e']\n"
     ]
    }
   ],
   "source": [
    "nomes = []\n",
    "k = []\n",
    "\n",
    "for k in range(1,4):\n",
    "    nomes.append(input('Nome:'))\n",
    "    nomes.append(input('Sobrenome:'))\n",
    "    nomes.append(input('RG:'))\n",
    "    nomes.append(input('CPF:'))\n",
    "print(nomes)\n"
   ]
  },
  {
   "cell_type": "code",
   "execution_count": 2,
   "metadata": {},
   "outputs": [
    {
     "ename": "NameError",
     "evalue": "name 'i' is not defined",
     "output_type": "error",
     "traceback": [
      "\u001b[1;31m---------------------------------------------------------------------------\u001b[0m",
      "\u001b[1;31mNameError\u001b[0m                                 Traceback (most recent call last)",
      "Cell \u001b[1;32mIn[2], line 4\u001b[0m\n\u001b[0;32m      1\u001b[0m lista1 \u001b[39m=\u001b[39m [\u001b[39m10\u001b[39m, \u001b[39m20\u001b[39m, \u001b[39m30\u001b[39m]\n\u001b[0;32m      2\u001b[0m lista2 \u001b[39m=\u001b[39m [\u001b[39m5\u001b[39m, \u001b[39m10\u001b[39m, \u001b[39m15\u001b[39m]\n\u001b[1;32m----> 4\u001b[0m somar \u001b[39m=\u001b[39m [lista1[i] \u001b[39m+\u001b[39m lista2[k]]\n\u001b[0;32m      6\u001b[0m \u001b[39mprint\u001b[39m(somar)\n",
      "\u001b[1;31mNameError\u001b[0m: name 'i' is not defined"
     ]
    }
   ],
   "source": [
    "lista1 = [10, 20, 30]\n",
    "lista2 = [5, 10, 15]\n",
    "\n",
    "somar = [lista1[i] + lista2[k]]\n",
    "\n",
    "print(somar)\n",
    "\n"
   ]
  },
  {
   "cell_type": "code",
   "execution_count": 3,
   "metadata": {},
   "outputs": [
    {
     "name": "stdout",
     "output_type": "stream",
     "text": [
      "Números inseridos:  [1]\n",
      "Números inseridos:  [1, 2]\n",
      "Números inseridos:  [1, 2, 3]\n",
      "Números inseridos:  [1, 2, 3, 4]\n",
      "Números inseridos:  [1, 2, 3, 4, 5]\n",
      "Soma dos valores:  15\n",
      "A média dos valores:  3.0\n",
      "Você tem 3 tentativas!!! \n",
      "Chance =  1\n",
      "Você tem 3 tentativas!!! \n",
      "Chance =  2\n",
      "Você tem 3 tentativas!!! \n",
      "Chance =  3\n"
     ]
    }
   ],
   "source": [
    "numeros = []\n",
    "i = 0\n",
    "\n",
    "while i < 5:\n",
    "    i +=1 \n",
    "    valores = int(input('Digite 5 valores:'))\n",
    "    numeros.append(valores)\n",
    "    print(f'Números inseridos: ',numeros)\n",
    "for k in range(1):\n",
    "    k = sum(numeros)\n",
    "    print(f'Soma dos valores: ',k)\n",
    "for j in range(1):\n",
    "    j = sum(numeros) / len(numeros)\n",
    "    print(f'A média dos valores: ',j)\n",
    "\n",
    "\n",
    "email = ('erickfujit@gmail.com')\n",
    "senha = \"1234\"\n",
    "\n",
    "for p in range(0,3):\n",
    "    print('Você tem 3 tentativas!!! ')\n",
    "    p += 1\n",
    "    email2 = input('Digite o seu email:')\n",
    "    senha2 = input('Digite a sua senha')\n",
    "    print('Chance = ',p)\n",
    "    if (senha == senha2) & (email == email2):\n",
    "        print('Acesso liberado!')\n",
    "        break\n",
    "    else:\n",
    "        continue\n",
    "\n",
    "\n"
   ]
  }
 ],
 "metadata": {
  "kernelspec": {
   "display_name": "Python 3",
   "language": "python",
   "name": "python3"
  },
  "language_info": {
   "codemirror_mode": {
    "name": "ipython",
    "version": 3
   },
   "file_extension": ".py",
   "mimetype": "text/x-python",
   "name": "python",
   "nbconvert_exporter": "python",
   "pygments_lexer": "ipython3",
   "version": "3.11.4"
  },
  "orig_nbformat": 4
 },
 "nbformat": 4,
 "nbformat_minor": 2
}
