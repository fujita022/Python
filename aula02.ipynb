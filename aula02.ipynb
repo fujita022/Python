{
 "cells": [
  {
   "cell_type": "code",
   "execution_count": 2,
   "metadata": {},
   "outputs": [
    {
     "name": "stdout",
     "output_type": "stream",
     "text": [
      "A área do circulo é: 28.273500000000002\n"
     ]
    }
   ],
   "source": [
    "#Estrutura\n",
    "\n",
    "raio = float(input('Digite o valor do raio'))\n",
    "area = 3.1415 * (raio ** 2)\n",
    "circunf = 3.1415 * 2 * raio\n",
    "\n",
    "\n",
    "print('A área do circulo é:', area)\n",
    "print('A circunferência do circulo é', circunf)"
   ]
  },
  {
   "cell_type": "code",
   "execution_count": 12,
   "metadata": {},
   "outputs": [
    {
     "name": "stdout",
     "output_type": "stream",
     "text": [
      "Considerando a fórmula de F=M.A, insira os dados abaixo\n",
      "O valor de F= 10.0\n",
      "O valor de M= 2.0\n",
      "O valor de A= 5.0\n",
      "O valor obtido de (F) foi: 1.0\n"
     ]
    }
   ],
   "source": [
    "#Estrutura G\n",
    "\n",
    "print('Considerando a fórmula de F=M.A, insira os dados abaixo')\n",
    "\n",
    "\n",
    "força = float(input('Digite o valor de F(N)'))\n",
    "massa = float(input('Digite o valor de M(kg)'))\n",
    "aceleração = float(input('Digite o valor de A'))\n",
    "\n",
    "print('O valor de F=', força)\n",
    "print('O valor de M=', massa)\n",
    "print('O valor de A=', aceleração)\n",
    "\n",
    "resposta = força = (massa * aceleração) / força\n",
    "\n",
    "print('O valor obtido de (F) foi:', resposta)"
   ]
  },
  {
   "cell_type": "code",
   "execution_count": 11,
   "metadata": {},
   "outputs": [
    {
     "name": "stdout",
     "output_type": "stream",
     "text": [
      "Considerando o valor de Kelvin de 273 e para converter \n",
      "O valor convertido de kelvin para celsius foi de: 303.0\n"
     ]
    }
   ],
   "source": [
    "#Convesor de Kelvins para celsius\n",
    "print('Considerando que para converter graus celsius para Kelvin basta somar 273: ')\n",
    "celsius = float(input('Digite a temperatura em valor de graus celsius:'))\n",
    "kelvin = 273\n",
    "conversor = celsius + kelvin\n",
    "\n",
    "\n",
    "print('O valor convertido de kelvin para celsius foi de:', conversor)"
   ]
  },
  {
   "cell_type": "code",
   "execution_count": 8,
   "metadata": {},
   "outputs": [
    {
     "name": "stdout",
     "output_type": "stream",
     "text": [
      "Total= Fiap\n"
     ]
    }
   ],
   "source": [
    "var_1 = 'F'\n",
    "var_2 = 'i'\n",
    "var_3 = 'a'\n",
    "var_4 =  'p'\n",
    "\n",
    "var_total = var_1+var_2+var_3+var_4\n",
    "print('Total=', var_total)"
   ]
  },
  {
   "cell_type": "code",
   "execution_count": 14,
   "metadata": {},
   "outputs": [
    {
     "name": "stdout",
     "output_type": "stream",
     "text": [
      "2x + 10 = ?\n",
      "O valor da equação é: 14.0\n"
     ]
    }
   ],
   "source": [
    "#1\n",
    "print('2x + 10 = ?')\n",
    "x = float(input('Digite o valor de x:'))\n",
    "resposta_x = x * 2\n",
    "equacao = resposta_x + 10\n",
    "print('O valor da equação é:', equacao)\n"
   ]
  },
  {
   "cell_type": "code",
   "execution_count": 21,
   "metadata": {},
   "outputs": [
    {
     "name": "stdout",
     "output_type": "stream",
     "text": [
      "2x + 10 = ?\n",
      "O valor da equação é: 16.0\n"
     ]
    }
   ],
   "source": [
    "#1\n",
    "\n",
    "\n",
    "print('2x + 10 = ?')\n",
    "x = float(input('Digite o valor de x:'))\n",
    "resposta_x = x * 2\n",
    "equacao = resposta_x + 10\n",
    "print('O valor da equação é:', equacao)\n"
   ]
  },
  {
   "cell_type": "code",
   "execution_count": 16,
   "metadata": {},
   "outputs": [
    {
     "name": "stdout",
     "output_type": "stream",
     "text": [
      "25x - 5 = ?\n",
      "O resultado: 70.0\n"
     ]
    }
   ],
   "source": [
    "#1\n",
    "print('25x - 5 = ?')\n",
    "\n",
    "x = float(input('Digite o valor de x'))\n",
    "resultado = (25*x) -5\n",
    "print('O resultado:', resultado)\n"
   ]
  },
  {
   "cell_type": "code",
   "execution_count": 20,
   "metadata": {},
   "outputs": [
    {
     "name": "stdout",
     "output_type": "stream",
     "text": [
      "Segundo a equação: 10x^2 + 2x +10 = ?\n",
      "O resultado da equação 10x^2 + 2x +10 é: 114.0\n"
     ]
    }
   ],
   "source": [
    "print('Segundo a equação: 10x^2 + 2x +10 = ?')\n",
    "x = float(input('Digite o valor de X'))\n",
    "resultado = 10 **x +(x*2 + 10)\n",
    "\n",
    "\n",
    "print('O resultado da equação 10x^2 + 2x +10 é:', resultado)"
   ]
  }
 ],
 "metadata": {
  "kernelspec": {
   "display_name": "Python 3",
   "language": "python",
   "name": "python3"
  },
  "language_info": {
   "codemirror_mode": {
    "name": "ipython",
    "version": 3
   },
   "file_extension": ".py",
   "mimetype": "text/x-python",
   "name": "python",
   "nbconvert_exporter": "python",
   "pygments_lexer": "ipython3",
   "version": "3.11.4"
  },
  "orig_nbformat": 4
 },
 "nbformat": 4,
 "nbformat_minor": 2
}
