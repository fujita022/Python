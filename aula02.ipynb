{
 "cells": [
  {
   "attachments": {},
   "cell_type": "markdown",
   "metadata": {},
   "source": [
    "Calculo de raio e circunferência"
   ]
  },
  {
   "cell_type": "code",
   "execution_count": 2,
   "metadata": {},
   "outputs": [
    {
     "name": "stdout",
     "output_type": "stream",
     "text": [
      "A área do circulo é: 28.273500000000002\n"
     ]
    }
   ],
   "source": [
    "#Estrutura\n",
    "\n",
    "raio = float(input('Digite o valor do raio'))\n",
    "area = 3.1415 * (raio ** 2)\n",
    "circunf = 3.1415 * 2 * raio\n",
    "\n",
    "\n",
    "print('A área do circulo é:', area)\n",
    "print('A circunferência do circulo é', circunf)"
   ]
  },
  {
   "attachments": {},
   "cell_type": "markdown",
   "metadata": {},
   "source": [
    "Cálculo de f=m.a"
   ]
  },
  {
   "cell_type": "code",
   "execution_count": 12,
   "metadata": {},
   "outputs": [
    {
     "name": "stdout",
     "output_type": "stream",
     "text": [
      "Considerando a fórmula de F=M.A, insira os dados abaixo\n",
      "O valor de F= 10.0\n",
      "O valor de M= 2.0\n",
      "O valor de A= 5.0\n",
      "O valor obtido de (F) foi: 1.0\n"
     ]
    }
   ],
   "source": [
    "#Estrutura G\n",
    "\n",
    "print('Considerando a fórmula de F=M.A, insira os dados abaixo')\n",
    "\n",
    "\n",
    "força = float(input('Digite o valor de F(N)'))\n",
    "massa = float(input('Digite o valor de M(kg)'))\n",
    "aceleração = float(input('Digite o valor de A'))\n",
    "\n",
    "print('O valor de F=', força)\n",
    "print('O valor de M=', massa)\n",
    "print('O valor de A=', aceleração)\n",
    "\n",
    "resposta = força = (massa * aceleração) / força\n",
    "\n",
    "print('O valor obtido de (F) foi:', resposta)"
   ]
  },
  {
   "attachments": {},
   "cell_type": "markdown",
   "metadata": {},
   "source": [
    "Calculo de conversos de graus celsius para Kelvin\n"
   ]
  },
  {
   "cell_type": "code",
   "execution_count": 11,
   "metadata": {},
   "outputs": [
    {
     "name": "stdout",
     "output_type": "stream",
     "text": [
      "Considerando o valor de Kelvin de 273 e para converter \n",
      "O valor convertido de kelvin para celsius foi de: 303.0\n"
     ]
    }
   ],
   "source": [
    "#Convesor de Kelvins para celsius\n",
    "print('Considerando que para converter graus celsius para Kelvin basta somar 273: ')\n",
    "celsius = float(input('Digite a temperatura em valor de graus celsius:'))\n",
    "kelvin = 273\n",
    "conversor = celsius + kelvin\n",
    "\n",
    "\n",
    "print('O valor convertido de kelvin para celsius foi de:', conversor)"
   ]
  },
  {
   "attachments": {},
   "cell_type": "markdown",
   "metadata": {},
   "source": [
    "Variaveis sem ser num/nan"
   ]
  },
  {
   "cell_type": "code",
   "execution_count": 8,
   "metadata": {},
   "outputs": [
    {
     "name": "stdout",
     "output_type": "stream",
     "text": [
      "Total= Fiap\n"
     ]
    }
   ],
   "source": [
    "var_1 = 'F'\n",
    "var_2 = 'i'\n",
    "var_3 = 'a'\n",
    "var_4 =  'p'\n",
    "\n",
    "var_total = var_1+var_2+var_3+var_4\n",
    "print('Total=', var_total)"
   ]
  },
  {
   "attachments": {},
   "cell_type": "markdown",
   "metadata": {},
   "source": [
    "Equação 1 - Exercicio"
   ]
  },
  {
   "cell_type": "code",
   "execution_count": 14,
   "metadata": {},
   "outputs": [
    {
     "name": "stdout",
     "output_type": "stream",
     "text": [
      "2x + 10 = ?\n",
      "O valor da equação é: 14.0\n"
     ]
    }
   ],
   "source": [
    "#1\n",
    "print('2x + 10 = ?')\n",
    "x = float(input('Digite o valor de x:'))\n",
    "resposta_x = x * 2\n",
    "equacao = resposta_x + 10\n",
    "print('O valor da equação é:', equacao)\n"
   ]
  },
  {
   "attachments": {},
   "cell_type": "markdown",
   "metadata": {},
   "source": [
    "Equação 2 - Exercicio"
   ]
  },
  {
   "cell_type": "code",
   "execution_count": 21,
   "metadata": {},
   "outputs": [
    {
     "name": "stdout",
     "output_type": "stream",
     "text": [
      "2x + 10 = ?\n",
      "O valor da equação é: 16.0\n"
     ]
    }
   ],
   "source": [
    "#1\n",
    "\n",
    "\n",
    "print('2x + 10 = ?')\n",
    "x = float(input('Digite o valor de x:'))\n",
    "resposta_x = x * 2\n",
    "equacao = resposta_x + 10\n",
    "print('O valor da equação é:', equacao)\n"
   ]
  },
  {
   "attachments": {},
   "cell_type": "markdown",
   "metadata": {},
   "source": [
    "Equação 3 - Exercicio"
   ]
  },
  {
   "cell_type": "code",
   "execution_count": 16,
   "metadata": {},
   "outputs": [
    {
     "name": "stdout",
     "output_type": "stream",
     "text": [
      "25x - 5 = ?\n",
      "O resultado: 70.0\n"
     ]
    }
   ],
   "source": [
    "#1\n",
    "print('25x - 5 = ?')\n",
    "\n",
    "x = float(input('Digite o valor de x'))\n",
    "resultado = (25*x) -5\n",
    "print('O resultado:', resultado)\n"
   ]
  },
  {
   "attachments": {},
   "cell_type": "markdown",
   "metadata": {},
   "source": [
    "Equação 4 - Exercicio"
   ]
  },
  {
   "cell_type": "code",
   "execution_count": 20,
   "metadata": {},
   "outputs": [
    {
     "name": "stdout",
     "output_type": "stream",
     "text": [
      "Segundo a equação: 10x^2 + 2x +10 = ?\n",
      "O resultado da equação 10x^2 + 2x +10 é: 114.0\n"
     ]
    }
   ],
   "source": [
    "print('Segundo a equação: 10x^2 + 2x +10 = ?')\n",
    "x = float(input('Digite o valor de X'))\n",
    "resultado = 10 **x +(x*2 + 10)\n",
    "\n",
    "\n",
    "print('O resultado da equação 10x^2 + 2x +10 é:', resultado)"
   ]
  },
  {
   "attachments": {},
   "cell_type": "markdown",
   "metadata": {},
   "source": [
    "Conversor de (m) para (mm)"
   ]
  },
  {
   "cell_type": "code",
   "execution_count": 36,
   "metadata": {},
   "outputs": [
    {
     "name": "stdout",
     "output_type": "stream",
     "text": [
      "Digite o valor em metros(m)\n",
      "O seu valor é: 1000.0 mm\n"
     ]
    }
   ],
   "source": [
    "print('Digite o valor em metros(m)')\n",
    "\n",
    "m = float(input('Digite aqui o valor em metro(m)'))\n",
    "milimetros = m *1000\n",
    "resposta = milimetros\n",
    "\n",
    "print('O seu valor é:', resposta,'mm')\n",
    "\n"
   ]
  },
  {
   "attachments": {},
   "cell_type": "markdown",
   "metadata": {},
   "source": [
    "Calcular tempo do dia"
   ]
  },
  {
   "cell_type": "code",
   "execution_count": 44,
   "metadata": {},
   "outputs": [
    {
     "name": "stdout",
     "output_type": "stream",
     "text": [
      "O valor total de segundos das quantidades escolhidas foram: 176462\n"
     ]
    }
   ],
   "source": [
    "dia = int(input('Digite a quantidade de dia(s)'))\n",
    "horas = int(input('Digite a quantidade de horas'))\n",
    "minutos = int(input('Digite a quantidade de minutos'))\n",
    "segundos = int(input('Digite a quantidade de segundos'))\n",
    "\n",
    "segundos_total = (dia * 24 * 60 *60)+(horas *60 *60)+ (minutos * 60) + segundos\n",
    "\n",
    "print('O valor total de segundos das quantidades escolhidas foram:', segundos_total)"
   ]
  },
  {
   "attachments": {},
   "cell_type": "markdown",
   "metadata": {},
   "source": [
    "Calcular tempo do dia( de dia a dia inteiros)"
   ]
  },
  {
   "cell_type": "code",
   "execution_count": 43,
   "metadata": {},
   "outputs": [
    {
     "name": "stdout",
     "output_type": "stream",
     "text": [
      "Digite uma certa quantidade de dias:\n",
      "Dias 3.0\n",
      "Horas: 72.0\n",
      "Minutos: 4320.0\n",
      "Segundos: 259200.0\n",
      "Os segundos do dia escolhido foi de: 259200.0\n"
     ]
    }
   ],
   "source": [
    "print('Digite uma certa quantidade de dias:')\n",
    "dias = float(input('Digite os dias aqui:'))\n",
    "horas = dias * 24\n",
    "minutos = horas * 60\n",
    "segundos = minutos * 60\n",
    "print('Dias', dias) \n",
    "print('Horas:', horas)\n",
    "print('Minutos:', minutos)\n",
    "print('Segundos:', segundos)\n",
    "print('Os segundos da quantidade de dias escolhidos foi:', segundos)"
   ]
  },
  {
   "attachments": {},
   "cell_type": "markdown",
   "metadata": {},
   "source": [
    "Calculadora de porcentagem de desconto"
   ]
  },
  {
   "cell_type": "code",
   "execution_count": 35,
   "metadata": {},
   "outputs": [
    {
     "name": "stdout",
     "output_type": "stream",
     "text": [
      "Calculadora para descontar %(porcentagem) de produtos:\n",
      "O valor final do produto será 194.0 com 3.0 % de desconto\n"
     ]
    }
   ],
   "source": [
    "print('Calculadora para descontar %(porcentagem) de produtos:')\n",
    "produto = float(input('Digite o valor do produto'))\n",
    "desconto = float(input('Digite o valor de desconto do produto em porcentagem(%)'))\n",
    "resposta_desconto = produto * (desconto / 100)\n",
    "produto_final = produto - resposta_desconto\n",
    "print('O valor final do produto será', produto_final, 'com', desconto ,'% de desconto')"
   ]
  },
  {
   "attachments": {},
   "cell_type": "markdown",
   "metadata": {},
   "source": [
    "Tempo de viagem"
   ]
  },
  {
   "cell_type": "code",
   "execution_count": 39,
   "metadata": {},
   "outputs": [
    {
     "name": "stdout",
     "output_type": "stream",
     "text": [
      "Tempo em viagem:\n",
      "15.0\n",
      "Distância percorrida:\n",
      "15.0\n",
      "A velocidade média é:\n",
      "1.0\n"
     ]
    }
   ],
   "source": [
    "print('Tempo em viagem:')\n",
    "tempo_viagem = float(input('Digite o tempo percorrido em sua viagem:'))\n",
    "print(tempo_viagem)\n",
    "print('Distância percorrida:')\n",
    "distancia_viagem = float(input('Digite a sua distância percorrida'))\n",
    "print(distancia_viagem)\n",
    "print('A velocidade média é:')\n",
    "velocidade_media = distancia_viagem / tempo_viagem\n",
    "\n",
    "print(velocidade_media)"
   ]
  },
  {
   "cell_type": "code",
   "execution_count": 1,
   "metadata": {},
   "outputs": [
    {
     "name": "stdout",
     "output_type": "stream",
     "text": [
      "Distancia percorrida com delta\n",
      "Apenas horários inteiros. Exemplo: 14/15\n",
      "Apenas números inteiros. Exemplo: 19/20\n",
      "A sua velocidade média percorrida para o seu destino foi de: 60.0 km/h\n"
     ]
    }
   ],
   "source": [
    "print('Distancia percorrida com delta')\n",
    "print('Apenas horários inteiros. Exemplo: 14/15')\n",
    "tempo_inicial = float(input('Digite o horário que saiu de casa'))\n",
    "print('Apenas números inteiros. Exemplo: 19/20')\n",
    "tempo_final = float(input('Digite o horário de chegada no destino.'))\n",
    "distancia_viagem = float(input('Digite quantos Km foram percorridos:'))\n",
    "\n",
    "resultado = distancia_viagem / (tempo_final - tempo_inicial)\n",
    "print('A sua velocidade média percorrida para o seu destino foi de:', resultado, 'km/h')"
   ]
  },
  {
   "attachments": {},
   "cell_type": "markdown",
   "metadata": {},
   "source": [
    "Sistema de resistores/tensao"
   ]
  },
  {
   "cell_type": "code",
   "execution_count": 76,
   "metadata": {},
   "outputs": [
    {
     "name": "stdout",
     "output_type": "stream",
     "text": [
      "Calcular a potência(W)\n",
      "Valor digitado 3.0\n",
      "Valor da corrente I 0.0\n",
      "3.0\n"
     ]
    }
   ],
   "source": [
    "\n",
    "print('Calcular a potência(W)')\n",
    "tensao = float(input('Digite a tensão em (V):'))\n",
    "print('Valor digitado', tensao)\n",
    "corrente_1 = float(input('Digite o valor da corrente I:'))\n",
    "print('Valor da corrente I', corrente_1)\n",
    "resistencia = float(input('Digite o valor da resistência:'))\n",
    "\n",
    "\n",
    "if (resistencia == 0):\n",
    "    potencia = tensao * corrente_1\n",
    "    print(potencia)\n",
    "elif  (corrente_1 == 0):\n",
    "    potencia3 = tensao**2 / resistencia\n",
    "    print(potencia3)\n",
    "else:\n",
    "    potencia2 = resistencia * (corrente_1 * 2)\n",
    "    print(potencia2)\n",
    "\n"
   ]
  },
  {
   "attachments": {},
   "cell_type": "markdown",
   "metadata": {},
   "source": [
    "Sistema aluguel de carro"
   ]
  },
  {
   "cell_type": "code",
   "execution_count": 2,
   "metadata": {},
   "outputs": [
    {
     "name": "stdout",
     "output_type": "stream",
     "text": [
      "Km percorridos: 4.0\n",
      "O total de dias foram: 4.0\n",
      "O preço alugado que o usuário deve pagar é de: 240.6 R$ percorrendo 4.0 e ficando com 4.0 dias alugados.\n",
      "FUJITAAA\n"
     ]
    }
   ],
   "source": [
    "km_percorridos = float(input('Digite a quantidade de Km percorridos:'))\n",
    "print('Km percorridos:', km_percorridos)\n",
    "dias_alugado = float(input('Digite a quantidade de dias que o usuário ficou com o carro:'))\n",
    "print('O total de dias foram:', dias_alugado)\n",
    "\n",
    "preco_total = (km_percorridos * 0.15) + (dias_alugado * 60)\n",
    "\n",
    "print('O preço alugado que o usuário deve pagar é de:', preco_total ,'R$ percorrendo', km_percorridos,'e ficando com', dias_alugado,'dias alugados.')\n",
    "print('FUJITAAA')"
   ]
  }
 ],
 "metadata": {
  "kernelspec": {
   "display_name": "Python 3",
   "language": "python",
   "name": "python3"
  },
  "language_info": {
   "codemirror_mode": {
    "name": "ipython",
    "version": 3
   },
   "file_extension": ".py",
   "mimetype": "text/x-python",
   "name": "python",
   "nbconvert_exporter": "python",
   "pygments_lexer": "ipython3",
   "version": "3.11.4"
  },
  "orig_nbformat": 4
 },
 "nbformat": 4,
 "nbformat_minor": 2
}
